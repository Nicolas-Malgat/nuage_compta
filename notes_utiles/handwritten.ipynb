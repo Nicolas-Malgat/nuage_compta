{
 "metadata": {
  "language_info": {
   "codemirror_mode": {
    "name": "ipython",
    "version": 3
   },
   "file_extension": ".py",
   "mimetype": "text/x-python",
   "name": "python",
   "nbconvert_exporter": "python",
   "pygments_lexer": "ipython3",
   "version": "3.6.11-final"
  },
  "orig_nbformat": 2,
  "kernelspec": {
   "name": "python3",
   "display_name": "Python 3"
  }
 },
 "nbformat": 4,
 "nbformat_minor": 2,
 "cells": [
  {
   "cell_type": "code",
   "execution_count": 1,
   "metadata": {},
   "outputs": [],
   "source": [
    "import pandas as pd\n",
    "\n",
    "RAW_PATH = '../datas/RAW/alphabet-dataset/'\n",
    "\n",
    "handwritten_dataset_path = RAW_PATH + 'handwritten-data.csv'\n",
    "\n",
    "%load_ext autoreload\n",
    "%autoreload 2"
   ]
  },
  {
   "source": [
    "## Lecture du CSV"
   ],
   "cell_type": "markdown",
   "metadata": {}
  },
  {
   "cell_type": "code",
   "execution_count": 2,
   "metadata": {},
   "outputs": [],
   "source": [
    "handwritten_dataset = pd.read_csv(handwritten_dataset_path)"
   ]
  },
  {
   "source": [
    "## Que contient handwritten_data ?\n",
    "\n",
    "Ce fichier csv contient toutes les images sous la forme d'une liste de nombre de 0 à 255.\n",
    "Cela correspond au 784 colonnes du dataset, la première étant réservée à identifier la lettre de l'image.\n",
    "\n",
    "Le head/tail met en évidence que la première colonne contient des valeurs de 0 à 25\n",
    "\n",
    "Le booleen resultant du calcul montre bien que l'on retrouve les dimensions de l'image de base en 28x28 pixel\n",
    "\n",
    "Je pense que ce [lien](https://stackoverflow.com/questions/55971531/how-do-i-convert-jpg-or-png-files-to-csv-files) peut mener vers la génération du csv "
   ],
   "cell_type": "markdown",
   "metadata": {}
  },
  {
   "cell_type": "code",
   "execution_count": 13,
   "metadata": {},
   "outputs": [
    {
     "output_type": "stream",
     "name": "stdout",
     "text": [
      "(372450, 785)\n0    0\n1    0\nName: 0, dtype: int64\n372448    25\n372449    25\nName: 0, dtype: int64\nTrue\n"
     ]
    }
   ],
   "source": [
    "print(handwritten_dataset.shape)\n",
    "print(handwritten_dataset.iloc[:,0].head(2))\n",
    "print(handwritten_dataset.iloc[:,0].tail(2))\n",
    "\n",
    "print(28 == (785-1)/28)"
   ]
  }
 ]
}