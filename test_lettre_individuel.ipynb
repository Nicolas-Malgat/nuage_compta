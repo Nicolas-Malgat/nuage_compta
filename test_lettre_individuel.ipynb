{
 "metadata": {
  "language_info": {
   "codemirror_mode": {
    "name": "ipython",
    "version": 3
   },
   "file_extension": ".py",
   "mimetype": "text/x-python",
   "name": "python",
   "nbconvert_exporter": "python",
   "pygments_lexer": "ipython3",
   "version": "3.7.9-final"
  },
  "orig_nbformat": 2,
  "kernelspec": {
   "name": "python3",
   "display_name": "Python 3"
  }
 },
 "nbformat": 4,
 "nbformat_minor": 2,
 "cells": [
  {
   "source": [
    "## Chargement du modele"
   ],
   "cell_type": "markdown",
   "metadata": {}
  },
  {
   "cell_type": "code",
   "execution_count": 1,
   "metadata": {},
   "outputs": [
    {
     "output_type": "stream",
     "name": "stderr",
     "text": [
      "Using TensorFlow backend.\n"
     ]
    }
   ],
   "source": [
    "from tkinter import *\n",
    "from PIL import Image, ImageDraw\n",
    "from matplotlib.pyplot import imshow\n",
    "import numpy as np\n",
    "from keras.models import load_model"
   ]
  },
  {
   "cell_type": "code",
   "execution_count": 2,
   "metadata": {},
   "outputs": [],
   "source": [
    "from keras.models import load_model\n",
    "from keras.models import Sequential\n",
    "from keras.layers import Conv2D, MaxPooling2D, Dense, Flatten\n",
    "\n",
    "# num_filters = 8\n",
    "# filter_size = 3\n",
    "# pool_size = 2\n",
    "\n",
    "# model = Sequential([\n",
    "#   Conv2D(num_filters, filter_size, input_shape=(28, 28, 1)),\n",
    "#   MaxPooling2D(pool_size=pool_size),\n",
    "#   Flatten(),\n",
    "#   Dense(26, activation='softmax')\n",
    "# ])\n",
    "\n",
    "# model.save('my_model.h5')  # creates a HDF5 file 'my_model.h5'\n",
    "# del model  # deletes the existing model\n",
    "\n",
    "# returns a compiled model\n",
    "# identical to the previous one\n",
    "model = load_model('1000_CNN.h5')"
   ]
  },
  {
   "cell_type": "code",
   "execution_count": 24,
   "metadata": {
    "tags": []
   },
   "outputs": [
    {
     "output_type": "stream",
     "name": "stdout",
     "text": [
      "(28, 28) \n",
      "\n",
      "C'est un  Q\n",
      "(28, 28) \n",
      "\n",
      "C'est un  W\n",
      "(28, 28) \n",
      "\n",
      "C'est un  M\n",
      "(28, 28) \n",
      "\n",
      "C'est un  W\n",
      "(28, 28) \n",
      "\n",
      "C'est un  H\n",
      "(28, 28) \n",
      "\n",
      "C'est un  B\n",
      "(28, 28) \n",
      "\n",
      "C'est un  R\n",
      "(28, 28) \n",
      "\n",
      "C'est un  B\n",
      "(28, 28) \n",
      "\n",
      "C'est un  W\n",
      "(28, 28) \n",
      "\n",
      "C'est un  B\n"
     ]
    },
    {
     "output_type": "display_data",
     "data": {
      "text/plain": "<Figure size 432x288 with 1 Axes>",
      "image/svg+xml": "<?xml version=\"1.0\" encoding=\"utf-8\" standalone=\"no\"?>\r\n<!DOCTYPE svg PUBLIC \"-//W3C//DTD SVG 1.1//EN\"\r\n  \"http://www.w3.org/Graphics/SVG/1.1/DTD/svg11.dtd\">\r\n<!-- Created with matplotlib (https://matplotlib.org/) -->\r\n<svg height=\"248.518125pt\" version=\"1.1\" viewBox=\"0 0 251.565 248.518125\" width=\"251.565pt\" xmlns=\"http://www.w3.org/2000/svg\" xmlns:xlink=\"http://www.w3.org/1999/xlink\">\r\n <metadata>\r\n  <rdf:RDF xmlns:cc=\"http://creativecommons.org/ns#\" xmlns:dc=\"http://purl.org/dc/elements/1.1/\" xmlns:rdf=\"http://www.w3.org/1999/02/22-rdf-syntax-ns#\">\r\n   <cc:Work>\r\n    <dc:type rdf:resource=\"http://purl.org/dc/dcmitype/StillImage\"/>\r\n    <dc:date>2020-11-15T01:47:29.699825</dc:date>\r\n    <dc:format>image/svg+xml</dc:format>\r\n    <dc:creator>\r\n     <cc:Agent>\r\n      <dc:title>Matplotlib v3.3.2, https://matplotlib.org/</dc:title>\r\n     </cc:Agent>\r\n    </dc:creator>\r\n   </cc:Work>\r\n  </rdf:RDF>\r\n </metadata>\r\n <defs>\r\n  <style type=\"text/css\">*{stroke-linecap:butt;stroke-linejoin:round;}</style>\r\n </defs>\r\n <g id=\"figure_1\">\r\n  <g id=\"patch_1\">\r\n   <path d=\"M 0 248.518125 \r\nL 251.565 248.518125 \r\nL 251.565 0 \r\nL 0 0 \r\nz\r\n\" style=\"fill:none;\"/>\r\n  </g>\r\n  <g id=\"axes_1\">\r\n   <g id=\"patch_2\">\r\n    <path d=\"M 26.925 224.64 \r\nL 244.365 224.64 \r\nL 244.365 7.2 \r\nL 26.925 7.2 \r\nz\r\n\" style=\"fill:#ffffff;\"/>\r\n   </g>\r\n   <g clip-path=\"url(#p5042475a3b)\">\r\n    <image height=\"218\" id=\"imaged82e3c951e\" transform=\"scale(1 -1)translate(0 -218)\" width=\"218\" x=\"27\" xlink:href=\"data:image/png;base64,\r\niVBORw0KGgoAAAANSUhEUgAAANoAAADaCAYAAADAHVzbAAAFTUlEQVR4nO3dP0uVfRzH8aOGgZhNUQ1FW9Bkf9YioaCpuUcgSFsQ1BNoCHoCRUuDa41OThKRokgklLQ01KZDBP313NO99ftecM7tx259vdYPv85V8fYCL845I/1+v98DdtXoXl8AHARCgwChQYDQIEBoECA0CBAaBAgNAoQGAUKDAKFBgNAgQGgQIDQIEBoECA0ChAYBQoMAoUGA0CBAaBAgNAgQGgQIDQKEBgFCgwChQYDQIEBoECA0CBAaBAgNAoQGAUKDAKFBgNAgQGgQIDQIOLTXF3AQ/f79u9zHxsZCV0KKOxoECA0ChAYBQoMAoUGA0CBAaBDgOVrDp0+fyv3Zs2fl/v79++a2trZWnj1+/Hi5T05Olvv58+fLfWZmprlNT0+XZycmJsqdP3NHgwChQYDQIEBoECA0CBAaBAgNAkb6/X5/ry/ibzQ7O1vuT548CV1J1rlz58p9YWGh3E+dOvVfXs6+4Y4GAUKDAKFBgNAgQGgQIDQI8DaZhh8/fgx1/sqVK83t1q1b5dmuJy6bm5vlvrS0VO4rKyvNbWNjozxbvcWm1+v1VldXy31qaqrc9yt3NAgQGgQIDQKEBgFCgwChQYDQIMBztF1y9uzZ5jY3N7err931tVDLy8vN7dq1a+XZDx8+lPvLly/L/caNG+W+X7mjQYDQIEBoECA0CBAaBAgNAoQGAZ6jNZw4cWKo89X7urqec42NjQ312l3nz5w509wOHz5cnv369Wu5//r1q9wPKnc0CBAaBAgNAoQGAUKDAKFBgNAgwHO0htOnTw91fnt7u7mNjtY/337+/Fnunz9/Lve3b9+W+507d5rb1tZWeXZycrLcL168WO4HlTsaBAgNAoQGAUKDAKFBgNAgwK/3G44cOTLU+YmJieb26tWr8uzt27fLfX19vdx3dnbKvdL16OHFixflfvLkyYFfez9zR4MAoUGA0CBAaBAgNAgQGgQIDQI8R2s4duzYUOerj3x7/PhxeXZtbW2o1z50qP5vvX79enO7f/9+efby5csDXdNB544GAUKDAKFBgNAgQGgQIDQIEBoEeI7W8OXLl6HOf//+vbk9fPiwPPvx48dyX1xcLPeRkZFyf/DgQXObnp4uzzIYdzQIEBoECA0ChAYBQoMAoUGA0CDAc7SG169f79qf3fVet+fPn5f7pUuXyn1zc7Pc796929wWFhbKs9X77GhzR4MAoUGA0CBAaBAgNAgQGgQIDQI8R2voehbV5cKFCwOfnZqaKvdHjx6V+82bN8u9+tzI6n10vV79vW+0uaNBgNAgQGgQIDQIEBoECA0C/Hq/4ejRo0Od//btW3NbXl4uz75586bcnz59OtA1/av6u3V95RODcUeDAKFBgNAgQGgQIDQIEBoECA0CPDRpGB0d7mfQ/Pz8QFvCvXv3mtv4+HjwSg4OdzQIEBoECA0ChAYBQoMAoUGA0CBgpN/v9/f6Iv5G7969K/e5ubly39jYGPi1uz5uruuj7GZnZ8v96tWrzW3Y54f8mX9VCBAaBAgNAoQGAUKDAKFBgNAgwHO0Ae3s7JR79bmOXbo+W9F7xv5/3NEgQGgQIDQIEBoECA0ChAYBQoMAz9EgwB0NAoQGAUKDAKFBgNAgQGgQIDQIEBoECA0ChAYBQoMAoUGA0CBAaBAgNAgQGgQIDQKEBgFCgwChQYDQIEBoECA0CBAaBAgNAoQGAUKDAKFBgNAgQGgQIDQIEBoECA0ChAYBQoMAoUGA0CBAaBAgNAgQGgQIDQKEBgFCgwChQYDQIEBoECA0CBAaBAgNAoQGAUKDAKFBgNAg4B9NzcARyfo9AAAAAABJRU5ErkJggg==\" y=\"-6.518125\"/>\r\n   </g>\r\n   <g id=\"matplotlib.axis_1\">\r\n    <g id=\"xtick_1\">\r\n     <g id=\"line2d_1\">\r\n      <defs>\r\n       <path d=\"M 0 0 \r\nL 0 3.5 \r\n\" id=\"me5267061e5\" style=\"stroke:#000000;stroke-width:0.8;\"/>\r\n      </defs>\r\n      <g>\r\n       <use style=\"stroke:#000000;stroke-width:0.8;\" x=\"30.807857\" xlink:href=\"#me5267061e5\" y=\"224.64\"/>\r\n      </g>\r\n     </g>\r\n     <g id=\"text_1\">\r\n      <!-- 0 -->\r\n      <g transform=\"translate(27.626607 239.238437)scale(0.1 -0.1)\">\r\n       <defs>\r\n        <path d=\"M 31.78125 66.40625 \r\nQ 24.171875 66.40625 20.328125 58.90625 \r\nQ 16.5 51.421875 16.5 36.375 \r\nQ 16.5 21.390625 20.328125 13.890625 \r\nQ 24.171875 6.390625 31.78125 6.390625 \r\nQ 39.453125 6.390625 43.28125 13.890625 \r\nQ 47.125 21.390625 47.125 36.375 \r\nQ 47.125 51.421875 43.28125 58.90625 \r\nQ 39.453125 66.40625 31.78125 66.40625 \r\nz\r\nM 31.78125 74.21875 \r\nQ 44.046875 74.21875 50.515625 64.515625 \r\nQ 56.984375 54.828125 56.984375 36.375 \r\nQ 56.984375 17.96875 50.515625 8.265625 \r\nQ 44.046875 -1.421875 31.78125 -1.421875 \r\nQ 19.53125 -1.421875 13.0625 8.265625 \r\nQ 6.59375 17.96875 6.59375 36.375 \r\nQ 6.59375 54.828125 13.0625 64.515625 \r\nQ 19.53125 74.21875 31.78125 74.21875 \r\nz\r\n\" id=\"DejaVuSans-48\"/>\r\n       </defs>\r\n       <use xlink:href=\"#DejaVuSans-48\"/>\r\n      </g>\r\n     </g>\r\n    </g>\r\n    <g id=\"xtick_2\">\r\n     <g id=\"line2d_2\">\r\n      <g>\r\n       <use style=\"stroke:#000000;stroke-width:0.8;\" x=\"69.636429\" xlink:href=\"#me5267061e5\" y=\"224.64\"/>\r\n      </g>\r\n     </g>\r\n     <g id=\"text_2\">\r\n      <!-- 5 -->\r\n      <g transform=\"translate(66.455179 239.238437)scale(0.1 -0.1)\">\r\n       <defs>\r\n        <path d=\"M 10.796875 72.90625 \r\nL 49.515625 72.90625 \r\nL 49.515625 64.59375 \r\nL 19.828125 64.59375 \r\nL 19.828125 46.734375 \r\nQ 21.96875 47.46875 24.109375 47.828125 \r\nQ 26.265625 48.1875 28.421875 48.1875 \r\nQ 40.625 48.1875 47.75 41.5 \r\nQ 54.890625 34.8125 54.890625 23.390625 \r\nQ 54.890625 11.625 47.5625 5.09375 \r\nQ 40.234375 -1.421875 26.90625 -1.421875 \r\nQ 22.3125 -1.421875 17.546875 -0.640625 \r\nQ 12.796875 0.140625 7.71875 1.703125 \r\nL 7.71875 11.625 \r\nQ 12.109375 9.234375 16.796875 8.0625 \r\nQ 21.484375 6.890625 26.703125 6.890625 \r\nQ 35.15625 6.890625 40.078125 11.328125 \r\nQ 45.015625 15.765625 45.015625 23.390625 \r\nQ 45.015625 31 40.078125 35.4375 \r\nQ 35.15625 39.890625 26.703125 39.890625 \r\nQ 22.75 39.890625 18.8125 39.015625 \r\nQ 14.890625 38.140625 10.796875 36.28125 \r\nz\r\n\" id=\"DejaVuSans-53\"/>\r\n       </defs>\r\n       <use xlink:href=\"#DejaVuSans-53\"/>\r\n      </g>\r\n     </g>\r\n    </g>\r\n    <g id=\"xtick_3\">\r\n     <g id=\"line2d_3\">\r\n      <g>\r\n       <use style=\"stroke:#000000;stroke-width:0.8;\" x=\"108.465\" xlink:href=\"#me5267061e5\" y=\"224.64\"/>\r\n      </g>\r\n     </g>\r\n     <g id=\"text_3\">\r\n      <!-- 10 -->\r\n      <g transform=\"translate(102.1025 239.238437)scale(0.1 -0.1)\">\r\n       <defs>\r\n        <path d=\"M 12.40625 8.296875 \r\nL 28.515625 8.296875 \r\nL 28.515625 63.921875 \r\nL 10.984375 60.40625 \r\nL 10.984375 69.390625 \r\nL 28.421875 72.90625 \r\nL 38.28125 72.90625 \r\nL 38.28125 8.296875 \r\nL 54.390625 8.296875 \r\nL 54.390625 0 \r\nL 12.40625 0 \r\nz\r\n\" id=\"DejaVuSans-49\"/>\r\n       </defs>\r\n       <use xlink:href=\"#DejaVuSans-49\"/>\r\n       <use x=\"63.623047\" xlink:href=\"#DejaVuSans-48\"/>\r\n      </g>\r\n     </g>\r\n    </g>\r\n    <g id=\"xtick_4\">\r\n     <g id=\"line2d_4\">\r\n      <g>\r\n       <use style=\"stroke:#000000;stroke-width:0.8;\" x=\"147.293571\" xlink:href=\"#me5267061e5\" y=\"224.64\"/>\r\n      </g>\r\n     </g>\r\n     <g id=\"text_4\">\r\n      <!-- 15 -->\r\n      <g transform=\"translate(140.931071 239.238437)scale(0.1 -0.1)\">\r\n       <use xlink:href=\"#DejaVuSans-49\"/>\r\n       <use x=\"63.623047\" xlink:href=\"#DejaVuSans-53\"/>\r\n      </g>\r\n     </g>\r\n    </g>\r\n    <g id=\"xtick_5\">\r\n     <g id=\"line2d_5\">\r\n      <g>\r\n       <use style=\"stroke:#000000;stroke-width:0.8;\" x=\"186.122143\" xlink:href=\"#me5267061e5\" y=\"224.64\"/>\r\n      </g>\r\n     </g>\r\n     <g id=\"text_5\">\r\n      <!-- 20 -->\r\n      <g transform=\"translate(179.759643 239.238437)scale(0.1 -0.1)\">\r\n       <defs>\r\n        <path d=\"M 19.1875 8.296875 \r\nL 53.609375 8.296875 \r\nL 53.609375 0 \r\nL 7.328125 0 \r\nL 7.328125 8.296875 \r\nQ 12.9375 14.109375 22.625 23.890625 \r\nQ 32.328125 33.6875 34.8125 36.53125 \r\nQ 39.546875 41.84375 41.421875 45.53125 \r\nQ 43.3125 49.21875 43.3125 52.78125 \r\nQ 43.3125 58.59375 39.234375 62.25 \r\nQ 35.15625 65.921875 28.609375 65.921875 \r\nQ 23.96875 65.921875 18.8125 64.3125 \r\nQ 13.671875 62.703125 7.8125 59.421875 \r\nL 7.8125 69.390625 \r\nQ 13.765625 71.78125 18.9375 73 \r\nQ 24.125 74.21875 28.421875 74.21875 \r\nQ 39.75 74.21875 46.484375 68.546875 \r\nQ 53.21875 62.890625 53.21875 53.421875 \r\nQ 53.21875 48.921875 51.53125 44.890625 \r\nQ 49.859375 40.875 45.40625 35.40625 \r\nQ 44.1875 33.984375 37.640625 27.21875 \r\nQ 31.109375 20.453125 19.1875 8.296875 \r\nz\r\n\" id=\"DejaVuSans-50\"/>\r\n       </defs>\r\n       <use xlink:href=\"#DejaVuSans-50\"/>\r\n       <use x=\"63.623047\" xlink:href=\"#DejaVuSans-48\"/>\r\n      </g>\r\n     </g>\r\n    </g>\r\n    <g id=\"xtick_6\">\r\n     <g id=\"line2d_6\">\r\n      <g>\r\n       <use style=\"stroke:#000000;stroke-width:0.8;\" x=\"224.950714\" xlink:href=\"#me5267061e5\" y=\"224.64\"/>\r\n      </g>\r\n     </g>\r\n     <g id=\"text_6\">\r\n      <!-- 25 -->\r\n      <g transform=\"translate(218.588214 239.238437)scale(0.1 -0.1)\">\r\n       <use xlink:href=\"#DejaVuSans-50\"/>\r\n       <use x=\"63.623047\" xlink:href=\"#DejaVuSans-53\"/>\r\n      </g>\r\n     </g>\r\n    </g>\r\n   </g>\r\n   <g id=\"matplotlib.axis_2\">\r\n    <g id=\"ytick_1\">\r\n     <g id=\"line2d_7\">\r\n      <defs>\r\n       <path d=\"M 0 0 \r\nL -3.5 0 \r\n\" id=\"m925080bec8\" style=\"stroke:#000000;stroke-width:0.8;\"/>\r\n      </defs>\r\n      <g>\r\n       <use style=\"stroke:#000000;stroke-width:0.8;\" x=\"26.925\" xlink:href=\"#m925080bec8\" y=\"11.082857\"/>\r\n      </g>\r\n     </g>\r\n     <g id=\"text_7\">\r\n      <!-- 0 -->\r\n      <g transform=\"translate(13.5625 14.882076)scale(0.1 -0.1)\">\r\n       <use xlink:href=\"#DejaVuSans-48\"/>\r\n      </g>\r\n     </g>\r\n    </g>\r\n    <g id=\"ytick_2\">\r\n     <g id=\"line2d_8\">\r\n      <g>\r\n       <use style=\"stroke:#000000;stroke-width:0.8;\" x=\"26.925\" xlink:href=\"#m925080bec8\" y=\"49.911429\"/>\r\n      </g>\r\n     </g>\r\n     <g id=\"text_8\">\r\n      <!-- 5 -->\r\n      <g transform=\"translate(13.5625 53.710647)scale(0.1 -0.1)\">\r\n       <use xlink:href=\"#DejaVuSans-53\"/>\r\n      </g>\r\n     </g>\r\n    </g>\r\n    <g id=\"ytick_3\">\r\n     <g id=\"line2d_9\">\r\n      <g>\r\n       <use style=\"stroke:#000000;stroke-width:0.8;\" x=\"26.925\" xlink:href=\"#m925080bec8\" y=\"88.74\"/>\r\n      </g>\r\n     </g>\r\n     <g id=\"text_9\">\r\n      <!-- 10 -->\r\n      <g transform=\"translate(7.2 92.539219)scale(0.1 -0.1)\">\r\n       <use xlink:href=\"#DejaVuSans-49\"/>\r\n       <use x=\"63.623047\" xlink:href=\"#DejaVuSans-48\"/>\r\n      </g>\r\n     </g>\r\n    </g>\r\n    <g id=\"ytick_4\">\r\n     <g id=\"line2d_10\">\r\n      <g>\r\n       <use style=\"stroke:#000000;stroke-width:0.8;\" x=\"26.925\" xlink:href=\"#m925080bec8\" y=\"127.568571\"/>\r\n      </g>\r\n     </g>\r\n     <g id=\"text_10\">\r\n      <!-- 15 -->\r\n      <g transform=\"translate(7.2 131.36779)scale(0.1 -0.1)\">\r\n       <use xlink:href=\"#DejaVuSans-49\"/>\r\n       <use x=\"63.623047\" xlink:href=\"#DejaVuSans-53\"/>\r\n      </g>\r\n     </g>\r\n    </g>\r\n    <g id=\"ytick_5\">\r\n     <g id=\"line2d_11\">\r\n      <g>\r\n       <use style=\"stroke:#000000;stroke-width:0.8;\" x=\"26.925\" xlink:href=\"#m925080bec8\" y=\"166.397143\"/>\r\n      </g>\r\n     </g>\r\n     <g id=\"text_11\">\r\n      <!-- 20 -->\r\n      <g transform=\"translate(7.2 170.196362)scale(0.1 -0.1)\">\r\n       <use xlink:href=\"#DejaVuSans-50\"/>\r\n       <use x=\"63.623047\" xlink:href=\"#DejaVuSans-48\"/>\r\n      </g>\r\n     </g>\r\n    </g>\r\n    <g id=\"ytick_6\">\r\n     <g id=\"line2d_12\">\r\n      <g>\r\n       <use style=\"stroke:#000000;stroke-width:0.8;\" x=\"26.925\" xlink:href=\"#m925080bec8\" y=\"205.225714\"/>\r\n      </g>\r\n     </g>\r\n     <g id=\"text_12\">\r\n      <!-- 25 -->\r\n      <g transform=\"translate(7.2 209.024933)scale(0.1 -0.1)\">\r\n       <use xlink:href=\"#DejaVuSans-50\"/>\r\n       <use x=\"63.623047\" xlink:href=\"#DejaVuSans-53\"/>\r\n      </g>\r\n     </g>\r\n    </g>\r\n   </g>\r\n   <g id=\"patch_3\">\r\n    <path d=\"M 26.925 224.64 \r\nL 26.925 7.2 \r\n\" style=\"fill:none;stroke:#000000;stroke-linecap:square;stroke-linejoin:miter;stroke-width:0.8;\"/>\r\n   </g>\r\n   <g id=\"patch_4\">\r\n    <path d=\"M 244.365 224.64 \r\nL 244.365 7.2 \r\n\" style=\"fill:none;stroke:#000000;stroke-linecap:square;stroke-linejoin:miter;stroke-width:0.8;\"/>\r\n   </g>\r\n   <g id=\"patch_5\">\r\n    <path d=\"M 26.925 224.64 \r\nL 244.365 224.64 \r\n\" style=\"fill:none;stroke:#000000;stroke-linecap:square;stroke-linejoin:miter;stroke-width:0.8;\"/>\r\n   </g>\r\n   <g id=\"patch_6\">\r\n    <path d=\"M 26.925 7.2 \r\nL 244.365 7.2 \r\n\" style=\"fill:none;stroke:#000000;stroke-linecap:square;stroke-linejoin:miter;stroke-width:0.8;\"/>\r\n   </g>\r\n  </g>\r\n </g>\r\n <defs>\r\n  <clipPath id=\"p5042475a3b\">\r\n   <rect height=\"217.44\" width=\"217.44\" x=\"26.925\" y=\"7.2\"/>\r\n  </clipPath>\r\n </defs>\r\n</svg>\r\n",
      "image/png": "[encoded data removed]"
     },
     "metadata": {
      "needs_background": "light"
     }
    }
   ],
   "source": [
    "class App:\n",
    "\n",
    "    def __init__(self, master, size=280):\n",
    "        self.size = size\n",
    "        self.model = load_model('1000_CNN.h5')\n",
    "\n",
    "        master.title(\"OCR application\")\n",
    "        master.resizable(False, False)\n",
    "        \n",
    "        # Create top canvas and image\n",
    "        self.cv = Canvas(master, width=size, height=size, bg='white')\n",
    "        self.cv.pack()\n",
    "\n",
    "        # self.image1 = Image.new(\"RGB\", (size, size), (255,255,255))\n",
    "        self.image1 = Image.new(\"L\", (self.size, self.size), 'black' )\n",
    "        self.draw = ImageDraw.Draw(self.image1)\n",
    "\n",
    "        self.cv.bind(\"<B1-Motion>\", lambda e: self.paint(e.x,e.y))\n",
    "\n",
    "        # Create bottom label and buttons\n",
    "        frame = Frame(master)\n",
    "        frame.pack(side=BOTTOM, fill=BOTH, expand=True)\n",
    "        \n",
    "        reslabel = Label(frame, text = \"Dessine une lettre\")\n",
    "        reslabel.pack(side=LEFT, fill=Y, expand=True, pady=10)\n",
    "        \n",
    "        button = Button(frame, text=\"Evaluer\", command=self.evaluate, width=6)\n",
    "        button.pack(side=LEFT, fill=Y)\n",
    "\n",
    "        button = Button(frame, text=\"Effacer\", command=self.clear, width=6)\n",
    "        button.pack(side=RIGHT, fill=Y)\n",
    "\n",
    "    def evaluate(self):\n",
    "        # img = self.image1.resize((28, 28)).convert('L') # image RGB\n",
    "        img = self.image1.resize((28, 28))\n",
    "        image_test = np.array(img)\n",
    "        imshow(image_test, cmap='Greys')\n",
    "\n",
    "        alphabet = ['A','B','C','D','E','F','G','H','I','J','K','L','M','N','O','P','Q','R','S','T','U','V','W','X','Y','Z']\n",
    "\n",
    "        image_test = np.expand_dims(image_test, axis=(0,-1))\n",
    "        prediction = np.argmax(self.model.predict(image_test) , axis=1)[0]\n",
    "        lettre = alphabet[prediction]\n",
    "\n",
    "        print(\n",
    "            \"C'est un \", lettre\n",
    "        )\n",
    "\n",
    "    def paint(self, x, y):\n",
    "        t = 11\n",
    "\n",
    "        x1, y1 = (x - t), (y - t)\n",
    "        x2, y2 = (x + t), (y + t)\n",
    "        self.cv.create_oval(x1, y1, x2, y2, fill='black', width=4)\n",
    "        self.draw.ellipse([x1, y1, x2, y2], fill='white')\n",
    "\n",
    "    def clear(self):\n",
    "        self.image1 = Image.new(\"L\", (self.size, self.size), 'black' )\n",
    "        self.draw = ImageDraw.Draw(self.image1)\n",
    "\n",
    "        # self.image1 = Image.new(\"L\", (self.size, self.size))\n",
    "        self.cv.delete(\"all\")\n",
    "    \n",
    "master = Tk()\n",
    "app = App(master)\n",
    "master.mainloop()\n"
   ]
  },
  {
   "cell_type": "code",
   "execution_count": 5,
   "metadata": {
    "tags": []
   },
   "outputs": [
    {
     "output_type": "error",
     "ename": "NameError",
     "evalue": "name 'paint' is not defined",
     "traceback": [
      "\u001b[1;31m---------------------------------------------------------------------------\u001b[0m",
      "\u001b[1;31mNameError\u001b[0m                                 Traceback (most recent call last)",
      "\u001b[1;32m<ipython-input-5-27e9985442d3>\u001b[0m in \u001b[0;36m<module>\u001b[1;34m\u001b[0m\n\u001b[0;32m     36\u001b[0m \u001b[0mimage1\u001b[0m \u001b[1;33m=\u001b[0m \u001b[0mImage\u001b[0m\u001b[1;33m.\u001b[0m\u001b[0mnew\u001b[0m\u001b[1;33m(\u001b[0m\u001b[1;34m\"RGB\"\u001b[0m\u001b[1;33m,\u001b[0m \u001b[1;33m(\u001b[0m\u001b[1;36m280\u001b[0m\u001b[1;33m,\u001b[0m \u001b[1;36m280\u001b[0m\u001b[1;33m)\u001b[0m\u001b[1;33m,\u001b[0m \u001b[1;33m(\u001b[0m\u001b[1;36m255\u001b[0m\u001b[1;33m,\u001b[0m \u001b[1;36m255\u001b[0m\u001b[1;33m,\u001b[0m \u001b[1;36m255\u001b[0m\u001b[1;33m)\u001b[0m\u001b[1;33m)\u001b[0m\u001b[1;33m\u001b[0m\u001b[1;33m\u001b[0m\u001b[0m\n\u001b[0;32m     37\u001b[0m \u001b[0mdraw\u001b[0m \u001b[1;33m=\u001b[0m \u001b[0mImageDraw\u001b[0m\u001b[1;33m.\u001b[0m\u001b[0mDraw\u001b[0m\u001b[1;33m(\u001b[0m\u001b[0mimage1\u001b[0m\u001b[1;33m)\u001b[0m\u001b[1;33m\u001b[0m\u001b[1;33m\u001b[0m\u001b[0m\n\u001b[1;32m---> 38\u001b[1;33m \u001b[0mcv\u001b[0m\u001b[1;33m.\u001b[0m\u001b[0mbind\u001b[0m\u001b[1;33m(\u001b[0m\u001b[1;34m\"<B1-Motion>\"\u001b[0m\u001b[1;33m,\u001b[0m \u001b[0mpaint\u001b[0m\u001b[1;33m)\u001b[0m\u001b[1;33m\u001b[0m\u001b[1;33m\u001b[0m\u001b[0m\n\u001b[0m\u001b[0;32m     39\u001b[0m \u001b[1;33m\u001b[0m\u001b[0m\n\u001b[0;32m     40\u001b[0m \u001b[1;31m# Create bottom label and buttons\u001b[0m\u001b[1;33m\u001b[0m\u001b[1;33m\u001b[0m\u001b[1;33m\u001b[0m\u001b[0m\n",
      "\u001b[1;31mNameError\u001b[0m: name 'paint' is not defined"
     ]
    }
   ],
   "source": [
    "def drawing_test (model):\n",
    "\n",
    "    model = load_model(model)\n",
    "\n",
    "def evaluate():\n",
    "    img = image1.resize((28, 28)).convert('L')\n",
    "    pixels = img.load()\n",
    "    for i in range(img.size[0]):\n",
    "        for j in range(img.size[1]):\n",
    "            pixels[i,j] = 255 if pixels[i,j] == 0 else 0\n",
    "    X_test = np.array(img).reshape(1, 28, 28, 1)\n",
    "    predicted_classes = model.predict_classes(X_test, verbose=0)\n",
    "    reslabel['text'] = \"Prédiction : \" + str(fct.alphabet[predicted_classes[0]])\n",
    "\n",
    "def clear():\n",
    "    pixels = image1.load()\n",
    "    for i in range(image1.size[0]):\n",
    "        for j in range(image1.size[1]):\n",
    "            pixels[i,j] = (255, 255,255)\n",
    "    cv.delete(\"all\")\n",
    "    reslabel['text'] = \"Dessine une lettre\"\n",
    "\n",
    "def paint(event):\n",
    "    x1, y1 = (event.x - 10), (event.y - 10)\n",
    "    x2, y2 = (event.x + 10), (event.y + 10)\n",
    "    cv.create_oval(x1, y1, x2, y2, fill=\"black\",width=4)\n",
    "    draw.ellipse([x1, y1, x2, y2],fill=\"black\")\n",
    "\n",
    "root = tk.Tk()\n",
    "root.title(\"OCR application\")\n",
    "root.resizable(False, False)\n",
    "\n",
    "# Create top canvas and image\n",
    "cv = tk.Canvas(root, width=280, height=280, bg='white')\n",
    "cv.pack()\n",
    "image1 = Image.new(\"RGB\", (280, 280), (255, 255, 255))\n",
    "draw = ImageDraw.Draw(image1)\n",
    "cv.bind(\"<B1-Motion>\", paint)\n",
    "\n",
    "# Create bottom label and buttons\n",
    "bottom = tk.Frame(root)\n",
    "bottom.pack(side=tk.BOTTOM, fill=tk.BOTH, expand=True)\n",
    "reslabel = tk.Label(text = \"Dessine une lettre\")\n",
    "reslabel.pack(in_=bottom, side=tk.LEFT, fill=tk.Y, expand=True)\n",
    "button = tk.Button(text=\"Evaluer\", command=evaluate, width=6)\n",
    "button.pack(in_=bottom, side=tk.LEFT, fill=tk.Y)\n",
    "button = tk.Button(text=\"Effacer\", command=clear, width=6)\n",
    "button.pack(in_=bottom, side=tk.RIGHT, fill=tk.Y)\n",
    "\n",
    "root.mainloop()"
   ]
  },
  {
   "cell_type": "code",
   "execution_count": null,
   "metadata": {},
   "outputs": [],
   "source": [
    "class App:\n",
    "    def __init__(self, master, size=28):\n",
    "        self.canvas = Canvas(master, width=size, height=size, bg='white')\n",
    "        self.canvas.bind('<B1-Motion>', lambda e: self.paint(e.x,e.y))\n",
    "        self.button = Button(master, text=\"Generer image\", command=self.generer_image)\n",
    "        self.canvas.pack(expand=YES)\n",
    "        self.button.pack(pady=10)\n",
    "\n",
    "    def paint(self, x, y):\n",
    "        color='black'\n",
    "        x1, y1 = x-1, y-1\n",
    "        x2, y2 = x+1, y+1\n",
    "        self.canvas.create_oval(x1,y1,x2,y2,fill=color,outline=color)\n",
    "\n",
    "    def generer_image(self):\n",
    "        file = 'lettre'\n",
    "\n",
    "        self.canvas.postscript(colormode='color', file=file + '.ps')\n",
    "        img = Image.open(file + '.ps').convert('LA')\n",
    "        img_array = np.asarray(img)\n",
    "        print( img_array.shape, img_array[0] )\n",
    "        imshow(img_array, cmap='Greys')\n",
    "        img.save(file + '.png', format='PNG')\n",
    "\n",
    "def getter(widget):\n",
    "    x=root.winfo_rootx()+widget.winfo_x()\n",
    "    y=root.winfo_rooty()+widget.winfo_y()\n",
    "    x1=x+widget.winfo_width()\n",
    "    y1=y+widget.winfo_height()\n",
    "    ImageGrab.grab().crop((x,y,x1,y1)).save(\"file path here\")"
   ]
  },
  {
   "cell_type": "code",
   "execution_count": null,
   "metadata": {
    "tags": []
   },
   "outputs": [],
   "source": [
    "master = Tk()\n",
    "master.title('Dessine une lettre')\n",
    "app = App(master)\n",
    "\n",
    "master.mainloop()\n"
   ]
  }
 ]
}