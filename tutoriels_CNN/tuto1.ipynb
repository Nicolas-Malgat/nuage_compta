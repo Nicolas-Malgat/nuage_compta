{
 "metadata": {
  "language_info": {
   "codemirror_mode": {
    "name": "ipython",
    "version": 3
   },
   "file_extension": ".py",
   "mimetype": "text/x-python",
   "name": "python",
   "nbconvert_exporter": "python",
   "pygments_lexer": "ipython3",
   "version": "3.6.12-final"
  },
  "orig_nbformat": 2,
  "kernelspec": {
   "name": "python3",
   "display_name": "Python 3.6.12 64-bit ('deep-learning': conda)",
   "metadata": {
    "interpreter": {
     "hash": "4fe2c7d8583915c62953c6af93dcc06775348c3b267ab901cb91daee53dc2af3"
    }
   }
  }
 },
 "nbformat": 4,
 "nbformat_minor": 2,
 "cells": [
  {
   "source": [
    "## Realisation de ce [tutoriel_1](https://victorzhou.com/blog/keras-cnn-tutorial/#2-preparing-the-data) et ce [tutoriel_2](https://elitedatascience.com/keras-tutorial-deep-learning-in-python)"
   ],
   "cell_type": "markdown",
   "metadata": {}
  },
  {
   "cell_type": "code",
   "execution_count": 1,
   "metadata": {},
   "outputs": [
    {
     "output_type": "stream",
     "name": "stderr",
     "text": [
      "Using TensorFlow backend.\n",
      "env:  deep-learning\n"
     ]
    }
   ],
   "source": [
    "import numpy as np\n",
    "\n",
    "import mnist\n",
    "\n",
    "from tensorflow.keras.models import Sequential\n",
    "from tensorflow.keras.layers import Conv2D, MaxPooling2D, Dense, Flatten\n",
    "from tensorflow.keras.utils import to_categorical\n",
    "\n",
    "from keras.utils import np_utils\n",
    "\n",
    "print('env: ', os.environ['CONDA_DEFAULT_ENV'])\n",
    "\n",
    "%load_ext autoreload\n",
    "%autoreload 2"
   ]
  },
  {
   "source": [
    "## Lecture des csv"
   ],
   "cell_type": "markdown",
   "metadata": {}
  },
  {
   "cell_type": "code",
   "execution_count": 7,
   "metadata": {},
   "outputs": [
    {
     "output_type": "stream",
     "name": "stdout",
     "text": [
      "(60000,) \n (10000,)\n(70000, 28, 28) \n (70000,)\n"
     ]
    }
   ],
   "source": [
    "train_images = mnist.train_images()\n",
    "train_labels = mnist.train_labels()\n",
    "test_images = mnist.test_images()\n",
    "test_labels = mnist.test_labels()\n",
    "\n",
    "print(\n",
    "    train_labels.shape, '\\n',\n",
    "    test_labels.shape\n",
    ")"
   ]
  },
  {
   "source": [
    "## Preprocessing\n",
    "\n",
    "Soit 85% de données d'entrainement\n",
    "\n",
    "Soit 15% de données de test"
   ],
   "cell_type": "markdown",
   "metadata": {}
  },
  {
   "cell_type": "code",
   "execution_count": 3,
   "metadata": {
    "tags": []
   },
   "outputs": [
    {
     "output_type": "stream",
     "name": "stdout",
     "text": [
      "(60000, 28, 28) \n (10000, 28, 28) \n\n(60000, 28, 28, 1) \n (60000,) \n (10000, 28, 28, 1) \n (10000,) \n\nfloat64 \n float64 \n\n"
     ]
    }
   ],
   "source": [
    "train_images = (train_images / 255) - 0.5\n",
    "test_images = (test_images / 255) - 0.5\n",
    "\n",
    "# train_images = train_images.astype('float32')\n",
    "# test_images = test_images.astype('float32')\n",
    "\n",
    "print(\n",
    "    train_images.shape, '\\n',\n",
    "    test_images.shape, '\\n'\n",
    ")\n",
    "\n",
    "train_images = np.expand_dims(train_images, axis=3)\n",
    "test_images = np.expand_dims(test_images, axis=3)\n",
    "\n",
    "print(\n",
    "    train_images.shape, '\\n',\n",
    "    train_labels.shape, '\\n',\n",
    "    test_images.shape, '\\n',\n",
    "    test_labels.shape, '\\n'\n",
    ")\n",
    "\n",
    "print(\n",
    "    train_images.dtype, '\\n',\n",
    "    test_images.dtype, '\\n',\n",
    ")"
   ]
  },
  {
   "source": [
    "## Construction du modèle"
   ],
   "cell_type": "markdown",
   "metadata": {}
  },
  {
   "cell_type": "code",
   "execution_count": 4,
   "metadata": {},
   "outputs": [],
   "source": [
    "num_filters = 8\n",
    "filter_size = 3\n",
    "pool_size = 2\n",
    "\n",
    "model = Sequential([\n",
    "  Conv2D(num_filters, filter_size, input_shape=(28, 28, 1)),\n",
    "  MaxPooling2D(pool_size=pool_size),\n",
    "  Flatten(),\n",
    "  Dense(10, activation='softmax'),\n",
    "])\n",
    "\n",
    "optimizer = 'adam'\n",
    "\n",
    "model.compile(\n",
    "  optimizer,\n",
    "  loss='categorical_crossentropy',\n",
    "  metrics=['accuracy'],\n",
    ")"
   ]
  },
  {
   "source": [
    "## Resultat entrainement \n",
    "```\n",
    "num_filters:\t 8 \n",
    "filter_size:\t 3 \n",
    "pool_size:\t 2 \n",
    "optimizer:\t adam \n",
    "nb_epoch:\t 3\n",
    "Train on 60000 samples, validate on 10000 samples\n",
    "Epoch 1/3\n",
    "60000/60000 [==============================] - 10s 171us/sample - loss: 0.3605 - accuracy: 0.8956 - val_loss: 0.2344 - val_accuracy: 0.9335\n",
    "Epoch 2/3\n",
    "60000/60000 [==============================] - 9s 156us/sample - loss: 0.1900 - accuracy: 0.9444 - val_loss: 0.1546 - val_accuracy: 0.9538\n",
    "Epoch 3/3\n",
    "60000/60000 [==============================] - 9s 157us/sample - loss: 0.1403 - accuracy: 0.9592 - val_loss: 0.1233 - val_accuracy: 0.9610\n",
    "```"
   ],
   "cell_type": "markdown",
   "metadata": {}
  },
  {
   "cell_type": "code",
   "execution_count": 5,
   "metadata": {},
   "outputs": [
    {
     "output_type": "stream",
     "name": "stdout",
     "text": [
      "num_filters:\t 8 \n",
      "filter_size:\t 3 \n",
      "pool_size:\t 2 \n",
      "optimizer:\t adam \n",
      "nb_epoch:\t 3\n",
      "Train on 60000 samples, validate on 10000 samples\n",
      "Epoch 1/3\n",
      "60000/60000 [==============================] - 12s 202us/sample - loss: 0.3665 - accuracy: 0.8951 - val_loss: 0.2144 - val_accuracy: 0.9396\n",
      "Epoch 2/3\n",
      "60000/60000 [==============================] - 11s 178us/sample - loss: 0.1786 - accuracy: 0.9491 - val_loss: 0.1380 - val_accuracy: 0.9590\n",
      "Epoch 3/3\n",
      "60000/60000 [==============================] - 11s 181us/sample - loss: 0.1284 - accuracy: 0.9632 - val_loss: 0.1250 - val_accuracy: 0.9630\n"
     ]
    }
   ],
   "source": [
    "nb_epoch = 3\n",
    "\n",
    "print(\n",
    "  'num_filters:\\t', num_filters,\n",
    "  '\\nfilter_size:\\t', filter_size,\n",
    "  '\\npool_size:\\t', pool_size,\n",
    "  '\\noptimizer:\\t', optimizer,\n",
    "  '\\nnb_epoch:\\t', nb_epoch,\n",
    ")\n",
    "\n",
    "train_labels = to_categorical(train_labels)\n",
    "test_labels = to_categorical(test_labels)\n",
    "\n",
    "model.fit(\n",
    "  train_images,\n",
    "  train_labels,\n",
    "  epochs=nb_epoch,\n",
    "  validation_data=(test_images, test_labels ),\n",
    ")\n",
    "\n",
    "# Save the model to disk.\n",
    "model.save_weights('tuto1_cnn.h5')"
   ]
  },
  {
   "source": [
    "val_loss: 0.1233 - val_accuracy: 0.9610\n",
    "\n",
    "```\n",
    "print(model.evaluate(test_images, to_categorical(test_labels), verbose=0))\n",
    "> [0.12332842820584775, 0.961]\n",
    "```"
   ],
   "cell_type": "markdown",
   "metadata": {}
  },
  {
   "cell_type": "code",
   "execution_count": 6,
   "metadata": {
    "tags": []
   },
   "outputs": [
    {
     "output_type": "stream",
     "name": "stdout",
     "text": [
      "[0.23840623259051935, 0.9496]\n"
     ]
    }
   ],
   "source": [
    "# to_categorical(test_labels)\n",
    "\n",
    "print(model.evaluate(test_images, to_categorical(test_labels), verbose=0))"
   ]
  },
  {
   "cell_type": "code",
   "execution_count": 14,
   "metadata": {},
   "outputs": [
    {
     "output_type": "stream",
     "name": "stdout",
     "text": [
      "[7 2 1 0 4 1 4 4 6 9 0 6 9 0 1 5 9 7 3 4 9 6 6 5 4 0 7 4 0 1 3 1 3 4 7 2 7]\n[7 2 1 0 4 1 4 9 5 9 0 6 9 0 1 5 9 7 3 4 9 6 6 5 4 0 7 4 0 1 3 1 3 4 7 2 7]\nFalse\n"
     ]
    }
   ],
   "source": [
    "# Load the model from disk later using:\n",
    "# model.load_weights('tutoriels_CNN/tuto1_cnn.h5')\n",
    "\n",
    "# Predict on the first 5 test images.\n",
    "predictions = model.predict(test_images[:37])\n",
    "\n",
    "print(np.argmax(predictions, axis=1)) # [7, 2, 1, 0, 4]\n",
    "\n",
    "print(test_labels[:37]) # [7, 2, 1, 0, 4]\n",
    "\n",
    "print(predictions == test_labels[:37])"
   ]
  },
  {
   "source": [
    "# Les hyperparamètres à tester:"
   ],
   "cell_type": "markdown",
   "metadata": {}
  },
  {
   "source": [
    "## Network Depth\n",
    "What happens if we add or remove Convolutional layers? How does that affect training and/or the model’s final performance?\n",
    "```\n",
    "model = Sequential([\n",
    "  Conv2D(num_filters, filter_size, input_shape=(28, 28, 1)),\n",
    "\n",
    "  Conv2D(num_filters, filter_size),\n",
    "  \n",
    "  MaxPooling2D(pool_size=pool_size),\n",
    "  Flatten(),\n",
    "  Dense(10, activation='softmax'),\n",
    "])\n",
    "```"
   ],
   "cell_type": "markdown",
   "metadata": {}
  },
  {
   "source": [
    "## Dropout\n",
    "What if we tried adding Dropout layers, which are commonly used to prevent overfitting (surentrainement) ?\n",
    "```\n",
    "from tensorflow.keras.layers import Dropout\n",
    "\n",
    "model = Sequential([\n",
    "  Conv2D(num_filters, filter_size, input_shape=(28, 28, 1)),\n",
    "  MaxPooling2D(pool_size=pool_size),\n",
    "  \n",
    "  Dropout(0.5),\n",
    "\n",
    "  Flatten(),\n",
    "  Dense(10, activation='softmax'),\n",
    "])\n",
    "```"
   ],
   "cell_type": "markdown",
   "metadata": {}
  },
  {
   "source": [
    "## Fully-connected Layers\n",
    "What if we add fully-connected layers between the Convolutional outputs and the final Softmax layer? This is something commonly done in CNNs used for Computer Vision.\n",
    "\n",
    "```\n",
    "model = Sequential([\n",
    "  Conv2D(num_filters, filter_size, input_shape=(28, 28, 1)),\n",
    "  MaxPooling2D(pool_size=pool_size),\n",
    "  Flatten(),\n",
    "\n",
    "  Dense(64, activation='relu'),\n",
    "  \n",
    "  Dense(10, activation='softmax'),\n",
    "])\n",
    "```"
   ],
   "cell_type": "markdown",
   "metadata": {}
  },
  {
   "source": [
    "## Convolution Parameters\n",
    "\n",
    "What if we play with the Conv2D parameters? For example:\n",
    "\n",
    "```\n",
    "Conv2D(\n",
    "    num_filters,\n",
    "    filter_size,\n",
    "    input_shape=(28, 28, 1),\n",
    "\n",
    "    strides=2,\n",
    "    padding='same',\n",
    "    activation='relu',\n",
    "    \n",
    "  ),\n",
    "```"
   ],
   "cell_type": "markdown",
   "metadata": {}
  },
  {
   "source": [
    "code complet du tutoriel :\n",
    "\n",
    "``` python\n",
    "# The full CNN code!\n",
    "####################\n",
    "import numpy as np\n",
    "import mnist\n",
    "from tensorflow.keras.models import Sequential\n",
    "from tensorflow.keras.layers import Conv2D, MaxPooling2D, Dense, Flatten\n",
    "from tensorflow.keras.utils import to_categorical\n",
    "\n",
    "train_images = mnist.train_images()\n",
    "train_labels = mnist.train_labels()\n",
    "test_images = mnist.test_images()\n",
    "test_labels = mnist.test_labels()\n",
    "\n",
    "# Normalize the images.\n",
    "train_images = (train_images / 255) - 0.5\n",
    "test_images = (test_images / 255) - 0.5\n",
    "\n",
    "# Reshape the images.\n",
    "train_images = np.expand_dims(train_images, axis=3)\n",
    "test_images = np.expand_dims(test_images, axis=3)\n",
    "\n",
    "num_filters = 8\n",
    "filter_size = 3\n",
    "pool_size = 2\n",
    "\n",
    "# Build the model.\n",
    "model = Sequential([\n",
    "  Conv2D(num_filters, filter_size, input_shape=(28, 28, 1)),\n",
    "  MaxPooling2D(pool_size=pool_size),\n",
    "  Flatten(),\n",
    "  Dense(10, activation='softmax'),\n",
    "])\n",
    "\n",
    "# Compile the model.\n",
    "model.compile(\n",
    "  'adam',\n",
    "  loss='categorical_crossentropy',\n",
    "  metrics=['accuracy'],\n",
    ")\n",
    "\n",
    "# Train the model.\n",
    "model.fit(\n",
    "  train_images,\n",
    "  to_categorical(train_labels),\n",
    "  epochs=3,\n",
    "  validation_data=(test_images, to_categorical(test_labels)),\n",
    ")\n",
    "\n",
    "# Save the model to disk.\n",
    "model.save_weights('cnn.h5')\n",
    "\n",
    "# Load the model from disk later using:\n",
    "# model.load_weights('cnn.h5')\n",
    "\n",
    "# Predict on the first 5 test images.\n",
    "predictions = model.predict(test_images[:5])\n",
    "\n",
    "# Print our model's predictions.\n",
    "print(np.argmax(predictions, axis=1)) # [7, 2, 1, 0, 4]\n",
    "\n",
    "# Check our predictions against the ground truths.\n",
    "print(test_labels[:5]) # [7, 2, 1, 0, 4]\n",
    "```"
   ],
   "cell_type": "markdown",
   "metadata": {}
  }
 ]
}