{
 "metadata": {
  "language_info": {
   "codemirror_mode": {
    "name": "ipython",
    "version": 3
   },
   "file_extension": ".py",
   "mimetype": "text/x-python",
   "name": "python",
   "nbconvert_exporter": "python",
   "pygments_lexer": "ipython3",
   "version": "3.7.9-final"
  },
  "orig_nbformat": 2,
  "kernelspec": {
   "name": "python3",
   "display_name": "Python 3.7.9 64-bit ('deep-learning': conda)",
   "metadata": {
    "interpreter": {
     "hash": "4fe2c7d8583915c62953c6af93dcc06775348c3b267ab901cb91daee53dc2af3"
    }
   }
  }
 },
 "nbformat": 4,
 "nbformat_minor": 2,
 "cells": [
  {
   "source": [
    "## Adaptation du tutoriel vers le texte"
   ],
   "cell_type": "markdown",
   "metadata": {}
  },
  {
   "cell_type": "code",
   "execution_count": 1,
   "metadata": {},
   "outputs": [
    {
     "output_type": "stream",
     "name": "stderr",
     "text": [
      "Using TensorFlow backend.\n",
      "env:  deep-learning\n"
     ]
    }
   ],
   "source": [
    "import numpy as np\n",
    "from math import floor\n",
    "from keras.models import Sequential\n",
    "from keras.layers import Conv2D, MaxPooling2D, Dense, Flatten\n",
    "from keras.utils import to_categorical\n",
    "from keras.preprocessing.image import ImageDataGenerator\n",
    "\n",
    "from pprint import pprint\n",
    "import matplotlib.pyplot as plt\n",
    "from random import randrange\n",
    "\n",
    "from keras.utils import np_utils\n",
    "\n",
    "from modules.loader import ComptaDataLoader\n",
    "\n",
    "print('env: ', os.environ['CONDA_DEFAULT_ENV'])\n",
    "%load_ext autoreload\n",
    "%autoreload 2"
   ]
  },
  {
   "cell_type": "code",
   "execution_count": 1,
   "metadata": {},
   "outputs": [
    {
     "output_type": "stream",
     "name": "stdout",
     "text": [
      "Ajout d'une étape de preprocessing quand j'aurai le temps\n"
     ]
    }
   ],
   "source": [
    "print(\"Ajout d'une étape de preprocessing quand j'aurai le temps\")\n",
    "\n",
    "# train_datagen = ImageDataGenerator(rescale = 1./255,\n",
    "#                                    shear_range = 0.2,           # shear_range est utilisé pour appliquer de manière aléatoire des transformations de cisaillement\n",
    "#                                    zoom_range = 0.2,            # zoom_range est utilisé pour zoomer aléatoirement à l'intérieur des images\n",
    "#                                    horizontal_flip = True)      # horizontal_flip est utilisé pour retourner au hasard la moitié des images horizontalement\n",
    "\n",
    "# test_datagen = ImageDataGenerator(rescale = 1./255)\n",
    "\n",
    "\n",
    "# # J'importe les images une par une à partir des répertoires en utilisant .flow_from_directory et y appliquons ImageDataGenerator.\n",
    "# train_generator = train_datagen.flow_from_directory(\n",
    "#     directory = \"data/dataset_reduit_train\",                    # Choix de mon repertoire\n",
    "#     target_size = (32,32),                                      # Je converti les images de leur taille d'origine à notre target_size\n",
    "#     batch_size = 32,                                            # Nombre batch_size qui fait référence au nombre d'exemples d'entraînement utilisés dans une itération                                 \n",
    "#     class_mode = \"categorical\"                                  # Nous définissons le class_mode sur catégorique indiquant que nous avons plusieurs classes (a à z) à prédire.\n",
    "\n",
    "# )\n",
    "\n",
    "# test_generator = test_datagen.flow_from_directory(\n",
    "#     directory = \"data/dataset_reduit_test\",\n",
    "#     target_size = (32,32),\n",
    "#     batch_size = 32,\n",
    "#     class_mode = \"categorical\"\n",
    "# )"
   ]
  },
  {
   "source": [
    "## Creation d'un CSV"
   ],
   "cell_type": "markdown",
   "metadata": {}
  },
  {
   "cell_type": "code",
   "execution_count": 10,
   "metadata": {},
   "outputs": [
    {
     "output_type": "stream",
     "name": "stdout",
     "text": [
      "Chargement des dossiers: ...OK\n",
      "Sélection des fichiers: ... OK\n",
      "Chargement des images: ... OK\n",
      "Mise en forme des données: ... OK\n",
      "Sauvegarde: ... OK\n"
     ]
    }
   ],
   "source": [
    "loader = ComptaDataLoader()\n",
    "loader.create_csv(1)"
   ]
  },
  {
   "source": [
    "## Lecture des csv"
   ],
   "cell_type": "markdown",
   "metadata": {}
  },
  {
   "cell_type": "code",
   "execution_count": 11,
   "metadata": {},
   "outputs": [],
   "source": [
    "path = r\"../datas/CURATED/\"\n",
    "\n",
    "data = np.genfromtxt(path + '1500_data.csv', delimiter=',')\n",
    "labels = np.genfromtxt(path + '1500_labels.csv', delimiter=',')\n"
   ]
  },
  {
   "source": [
    "## Preprocessing"
   ],
   "cell_type": "markdown",
   "metadata": {}
  },
  {
   "cell_type": "code",
   "execution_count": 12,
   "metadata": {},
   "outputs": [
    {
     "output_type": "stream",
     "name": "stdout",
     "text": [
      "(38283, 28, 28, 1) \n (38283, 26) \n [3, 21, 23, 24, 2, 25, 18, 3, 17, 3]\n"
     ]
    }
   ],
   "source": [
    "# Explication:\n",
    "# 0     127.5   255   3 valeurs par defaut\n",
    "# 0     .25     1     /255\n",
    "# -.5   0       .5    -.5\n",
    "data = (data / 255) - 0.5\n",
    "\n",
    "data = np.apply_along_axis(lambda row: row.reshape(28,28), 1, data)\n",
    "data = np.expand_dims(data, axis=3)\n",
    "\n",
    "labels = to_categorical(labels)\n",
    "\n",
    "# Mélange de manière synchronisé la data et les labels\n",
    "randomize = np.arange(len(data))\n",
    "np.random.shuffle(randomize)\n",
    "data = data[randomize]\n",
    "labels = labels[randomize]\n",
    "\n",
    "print(\n",
    "    data.shape, '\\n',\n",
    "    labels.shape, '\\n',\n",
    "    [np.argmax(row) for row in labels[:10]]\n",
    ")"
   ]
  },
  {
   "source": [
    "## Je plot gentiment une lettre:"
   ],
   "cell_type": "markdown",
   "metadata": {}
  },
  {
   "cell_type": "code",
   "execution_count": 13,
   "metadata": {},
   "outputs": [
    {
     "output_type": "stream",
     "name": "stdout",
     "text": [
      "C'est un D\n"
     ]
    },
    {
     "output_type": "display_data",
     "data": {
      "text/plain": "<Figure size 432x288 with 1 Axes>",
      "image/svg+xml": "<?xml version=\"1.0\" encoding=\"utf-8\" standalone=\"no\"?>\r\n<!DOCTYPE svg PUBLIC \"-//W3C//DTD SVG 1.1//EN\"\r\n  \"http://www.w3.org/Graphics/SVG/1.1/DTD/svg11.dtd\">\r\n<!-- Created with matplotlib (https://matplotlib.org/) -->\r\n<svg height=\"248.518125pt\" version=\"1.1\" viewBox=\"0 0 251.565 248.518125\" width=\"251.565pt\" xmlns=\"http://www.w3.org/2000/svg\" xmlns:xlink=\"http://www.w3.org/1999/xlink\">\r\n <metadata>\r\n  <rdf:RDF xmlns:cc=\"http://creativecommons.org/ns#\" xmlns:dc=\"http://purl.org/dc/elements/1.1/\" xmlns:rdf=\"http://www.w3.org/1999/02/22-rdf-syntax-ns#\">\r\n   <cc:Work>\r\n    <dc:type rdf:resource=\"http://purl.org/dc/dcmitype/StillImage\"/>\r\n    <dc:date>2020-11-15T21:04:19.062825</dc:date>\r\n    <dc:format>image/svg+xml</dc:format>\r\n    <dc:creator>\r\n     <cc:Agent>\r\n      <dc:title>Matplotlib v3.3.2, https://matplotlib.org/</dc:title>\r\n     </cc:Agent>\r\n    </dc:creator>\r\n   </cc:Work>\r\n  </rdf:RDF>\r\n </metadata>\r\n <defs>\r\n  <style type=\"text/css\">*{stroke-linecap:butt;stroke-linejoin:round;}</style>\r\n </defs>\r\n <g id=\"figure_1\">\r\n  <g id=\"patch_1\">\r\n   <path d=\"M 0 248.518125 \r\nL 251.565 248.518125 \r\nL 251.565 0 \r\nL 0 0 \r\nz\r\n\" style=\"fill:none;\"/>\r\n  </g>\r\n  <g id=\"axes_1\">\r\n   <g id=\"patch_2\">\r\n    <path d=\"M 26.925 224.64 \r\nL 244.365 224.64 \r\nL 244.365 7.2 \r\nL 26.925 7.2 \r\nz\r\n\" style=\"fill:#ffffff;\"/>\r\n   </g>\r\n   <g clip-path=\"url(#pb6633a951b)\">\r\n    <image height=\"218\" id=\"image66de71475b\" transform=\"scale(1 -1)translate(0 -218)\" width=\"218\" x=\"26.925\" xlink:href=\"data:image/png;base64,\r\niVBORw0KGgoAAAANSUhEUgAAANoAAADaCAYAAADAHVzbAAAFiklEQVR4nO3dO2tUWxjH4TMaRaJYWFjYaEzlBWxEbITUFmInoo03EATzGQQ/gCipFEQQLf0IKoOFSECJlWksLKwsjReSfeoDzjue7OS/k53naV/WdhX5uWAvZmbQNE3zD7CutnW9AdgKhAYBQoMAoUGA0CBAaBAgNAgQGgQIDQKEBgFCgwChQYDQIEBoECA0CBAaBAgNAoQGAUKDAKFBgNAgQGgQIDQIEBoECA0ChAYBQoMAoUGA0CBAaBAw0fUGNqrl5eVyvrCwUM5fvnw5cvbhw4dy7XA4LOeHDx8u50ePHi3ns7OzI2dTU1Pl2sFgUM75MycaBAgNAoQGAUKDAKFBgNAgQGgQMGiapul6E1349OlTOb9w4UI5f//+/RruZuO4fv16OZ+bmyvnO3fuXMvt9IYTDQKEBgFCgwChQYDQIEBoECA0COjtPdrS0lI537dvXzn/8eNHq3+/+szYqVOnWj17cXGxnM/Pz7d6fuXkyZPl/M2bN+V8q96zOdEgQGgQIDQIEBoECA0ChAYBQoOA3t6jff/+vZzv3bu3nI/7XsdxPn78OHJ27NixVs9eWVkp5+/evSvnDx48GDl79uxZuXbcn8vVq1fL+aNHj0bO+vydkU40CBAaBAgNAoQGAUKDAKFBQG9f748z7jX048ePy/m4j7q8fv165GzXrl3l2i7duHGjnFev5/9G9XNWMzMzrZ69kTnRIEBoECA0CBAaBAgNAoQGAUKDgImuN9CVL1++tFo/7h5tI9+VVe7du1fO296jPXnyZOTMPRrQitAgQGgQIDQIEBoECA0ChAYBvb1H+/nzZzmvvg5uK5ucnCznt27dKudzc3NruZ3ecKJBgNAgQGgQIDQIEBoECA0ChAYBvb1H27at/j9kz549oZ1sLuN+OunKlSvl3D3anznRIEBoECA0CBAaBAgNAoQGAb19vf/r169yvri4GNpJv0xPT3e9hU3JiQYBQoMAoUGA0CBAaBAgNAgQGgT09h6NjWk4HHa9hU440SBAaBAgNAgQGgQIDQKEBgFCgwD3aPwvv3//brX+zJkza7STzcWJBgFCgwChQYDQIEBoECA0CBAaBLhH4z+apinns7OzoZ30ixMNAoQGAUKDAKFBgNAgQGgQIDQIcI+2Svv37+96C+ti3OfNnj9/3ur5165da7V+s3KiQYDQIEBoECA0CBAaBAgNAnr7en9lZWVdn3/x4sV1fX5Xvn371mr98ePHy/np06dbPX+zcqJBgNAgQGgQIDQIEBoECA0ChAYBvb1He/jwYav1u3fvLucHDx5s9fyN6tKlS63Wnzt3rpxPTPT2T67kRIMAoUGA0CBAaBAgNAgQGgQIDQJ6e6mxsLDQav3Zs2fL+Y4dO1o9v0ufP38eORsOh+XaQ4cOlfM7d+6sYkf950SDAKFBgNAgQGgQIDQIEBoECA0CenuP9urVq1brDxw4sDYbWQfLy8vl/OnTp+X85s2bI2fjfrZp3M8ubdXPm43jRIMAoUGA0CBAaBAgNAgQGgQIDQIGTdM0XW9iPQwGg1brT5w4Uc6PHDnS6vltjLsj/Pr166qfff78+XL+4sWLVT97K3OiQYDQIEBoECA0CBAaBAgNArze76HJyclyfvfu3ZGz27dvl2u3b9++qj1tdU40CBAaBAgNAoQGAUKDAKFBgNAgoLffDXb//v1yPj8/X87fvn1bzpeWlsr5zMxMOW9jamqqnF++fLmcT09Pr+V2+AtONAgQGgQIDQKEBgFCgwChQYDQIKC3n0eDjcSJBgFCgwChQYDQIEBoECA0CBAaBAgNAoQGAUKDAKFBgNAgQGgQIDQIEBoECA0ChAYBQoMAoUGA0CBAaBAgNAgQGgQIDQKEBgFCgwChQYDQIEBoECA0CPgX5fHTjUzXKugAAAAASUVORK5CYII=\" y=\"-6.64\"/>\r\n   </g>\r\n   <g id=\"matplotlib.axis_1\">\r\n    <g id=\"xtick_1\">\r\n     <g id=\"line2d_1\">\r\n      <defs>\r\n       <path d=\"M 0 0 \r\nL 0 3.5 \r\n\" id=\"m26d2b5b606\" style=\"stroke:#000000;stroke-width:0.8;\"/>\r\n      </defs>\r\n      <g>\r\n       <use style=\"stroke:#000000;stroke-width:0.8;\" x=\"30.807857\" xlink:href=\"#m26d2b5b606\" y=\"224.64\"/>\r\n      </g>\r\n     </g>\r\n     <g id=\"text_1\">\r\n      <!-- 0 -->\r\n      <g transform=\"translate(27.626607 239.238437)scale(0.1 -0.1)\">\r\n       <defs>\r\n        <path d=\"M 31.78125 66.40625 \r\nQ 24.171875 66.40625 20.328125 58.90625 \r\nQ 16.5 51.421875 16.5 36.375 \r\nQ 16.5 21.390625 20.328125 13.890625 \r\nQ 24.171875 6.390625 31.78125 6.390625 \r\nQ 39.453125 6.390625 43.28125 13.890625 \r\nQ 47.125 21.390625 47.125 36.375 \r\nQ 47.125 51.421875 43.28125 58.90625 \r\nQ 39.453125 66.40625 31.78125 66.40625 \r\nz\r\nM 31.78125 74.21875 \r\nQ 44.046875 74.21875 50.515625 64.515625 \r\nQ 56.984375 54.828125 56.984375 36.375 \r\nQ 56.984375 17.96875 50.515625 8.265625 \r\nQ 44.046875 -1.421875 31.78125 -1.421875 \r\nQ 19.53125 -1.421875 13.0625 8.265625 \r\nQ 6.59375 17.96875 6.59375 36.375 \r\nQ 6.59375 54.828125 13.0625 64.515625 \r\nQ 19.53125 74.21875 31.78125 74.21875 \r\nz\r\n\" id=\"DejaVuSans-48\"/>\r\n       </defs>\r\n       <use xlink:href=\"#DejaVuSans-48\"/>\r\n      </g>\r\n     </g>\r\n    </g>\r\n    <g id=\"xtick_2\">\r\n     <g id=\"line2d_2\">\r\n      <g>\r\n       <use style=\"stroke:#000000;stroke-width:0.8;\" x=\"69.636429\" xlink:href=\"#m26d2b5b606\" y=\"224.64\"/>\r\n      </g>\r\n     </g>\r\n     <g id=\"text_2\">\r\n      <!-- 5 -->\r\n      <g transform=\"translate(66.455179 239.238437)scale(0.1 -0.1)\">\r\n       <defs>\r\n        <path d=\"M 10.796875 72.90625 \r\nL 49.515625 72.90625 \r\nL 49.515625 64.59375 \r\nL 19.828125 64.59375 \r\nL 19.828125 46.734375 \r\nQ 21.96875 47.46875 24.109375 47.828125 \r\nQ 26.265625 48.1875 28.421875 48.1875 \r\nQ 40.625 48.1875 47.75 41.5 \r\nQ 54.890625 34.8125 54.890625 23.390625 \r\nQ 54.890625 11.625 47.5625 5.09375 \r\nQ 40.234375 -1.421875 26.90625 -1.421875 \r\nQ 22.3125 -1.421875 17.546875 -0.640625 \r\nQ 12.796875 0.140625 7.71875 1.703125 \r\nL 7.71875 11.625 \r\nQ 12.109375 9.234375 16.796875 8.0625 \r\nQ 21.484375 6.890625 26.703125 6.890625 \r\nQ 35.15625 6.890625 40.078125 11.328125 \r\nQ 45.015625 15.765625 45.015625 23.390625 \r\nQ 45.015625 31 40.078125 35.4375 \r\nQ 35.15625 39.890625 26.703125 39.890625 \r\nQ 22.75 39.890625 18.8125 39.015625 \r\nQ 14.890625 38.140625 10.796875 36.28125 \r\nz\r\n\" id=\"DejaVuSans-53\"/>\r\n       </defs>\r\n       <use xlink:href=\"#DejaVuSans-53\"/>\r\n      </g>\r\n     </g>\r\n    </g>\r\n    <g id=\"xtick_3\">\r\n     <g id=\"line2d_3\">\r\n      <g>\r\n       <use style=\"stroke:#000000;stroke-width:0.8;\" x=\"108.465\" xlink:href=\"#m26d2b5b606\" y=\"224.64\"/>\r\n      </g>\r\n     </g>\r\n     <g id=\"text_3\">\r\n      <!-- 10 -->\r\n      <g transform=\"translate(102.1025 239.238437)scale(0.1 -0.1)\">\r\n       <defs>\r\n        <path d=\"M 12.40625 8.296875 \r\nL 28.515625 8.296875 \r\nL 28.515625 63.921875 \r\nL 10.984375 60.40625 \r\nL 10.984375 69.390625 \r\nL 28.421875 72.90625 \r\nL 38.28125 72.90625 \r\nL 38.28125 8.296875 \r\nL 54.390625 8.296875 \r\nL 54.390625 0 \r\nL 12.40625 0 \r\nz\r\n\" id=\"DejaVuSans-49\"/>\r\n       </defs>\r\n       <use xlink:href=\"#DejaVuSans-49\"/>\r\n       <use x=\"63.623047\" xlink:href=\"#DejaVuSans-48\"/>\r\n      </g>\r\n     </g>\r\n    </g>\r\n    <g id=\"xtick_4\">\r\n     <g id=\"line2d_4\">\r\n      <g>\r\n       <use style=\"stroke:#000000;stroke-width:0.8;\" x=\"147.293571\" xlink:href=\"#m26d2b5b606\" y=\"224.64\"/>\r\n      </g>\r\n     </g>\r\n     <g id=\"text_4\">\r\n      <!-- 15 -->\r\n      <g transform=\"translate(140.931071 239.238437)scale(0.1 -0.1)\">\r\n       <use xlink:href=\"#DejaVuSans-49\"/>\r\n       <use x=\"63.623047\" xlink:href=\"#DejaVuSans-53\"/>\r\n      </g>\r\n     </g>\r\n    </g>\r\n    <g id=\"xtick_5\">\r\n     <g id=\"line2d_5\">\r\n      <g>\r\n       <use style=\"stroke:#000000;stroke-width:0.8;\" x=\"186.122143\" xlink:href=\"#m26d2b5b606\" y=\"224.64\"/>\r\n      </g>\r\n     </g>\r\n     <g id=\"text_5\">\r\n      <!-- 20 -->\r\n      <g transform=\"translate(179.759643 239.238437)scale(0.1 -0.1)\">\r\n       <defs>\r\n        <path d=\"M 19.1875 8.296875 \r\nL 53.609375 8.296875 \r\nL 53.609375 0 \r\nL 7.328125 0 \r\nL 7.328125 8.296875 \r\nQ 12.9375 14.109375 22.625 23.890625 \r\nQ 32.328125 33.6875 34.8125 36.53125 \r\nQ 39.546875 41.84375 41.421875 45.53125 \r\nQ 43.3125 49.21875 43.3125 52.78125 \r\nQ 43.3125 58.59375 39.234375 62.25 \r\nQ 35.15625 65.921875 28.609375 65.921875 \r\nQ 23.96875 65.921875 18.8125 64.3125 \r\nQ 13.671875 62.703125 7.8125 59.421875 \r\nL 7.8125 69.390625 \r\nQ 13.765625 71.78125 18.9375 73 \r\nQ 24.125 74.21875 28.421875 74.21875 \r\nQ 39.75 74.21875 46.484375 68.546875 \r\nQ 53.21875 62.890625 53.21875 53.421875 \r\nQ 53.21875 48.921875 51.53125 44.890625 \r\nQ 49.859375 40.875 45.40625 35.40625 \r\nQ 44.1875 33.984375 37.640625 27.21875 \r\nQ 31.109375 20.453125 19.1875 8.296875 \r\nz\r\n\" id=\"DejaVuSans-50\"/>\r\n       </defs>\r\n       <use xlink:href=\"#DejaVuSans-50\"/>\r\n       <use x=\"63.623047\" xlink:href=\"#DejaVuSans-48\"/>\r\n      </g>\r\n     </g>\r\n    </g>\r\n    <g id=\"xtick_6\">\r\n     <g id=\"line2d_6\">\r\n      <g>\r\n       <use style=\"stroke:#000000;stroke-width:0.8;\" x=\"224.950714\" xlink:href=\"#m26d2b5b606\" y=\"224.64\"/>\r\n      </g>\r\n     </g>\r\n     <g id=\"text_6\">\r\n      <!-- 25 -->\r\n      <g transform=\"translate(218.588214 239.238437)scale(0.1 -0.1)\">\r\n       <use xlink:href=\"#DejaVuSans-50\"/>\r\n       <use x=\"63.623047\" xlink:href=\"#DejaVuSans-53\"/>\r\n      </g>\r\n     </g>\r\n    </g>\r\n   </g>\r\n   <g id=\"matplotlib.axis_2\">\r\n    <g id=\"ytick_1\">\r\n     <g id=\"line2d_7\">\r\n      <defs>\r\n       <path d=\"M 0 0 \r\nL -3.5 0 \r\n\" id=\"m271735dadc\" style=\"stroke:#000000;stroke-width:0.8;\"/>\r\n      </defs>\r\n      <g>\r\n       <use style=\"stroke:#000000;stroke-width:0.8;\" x=\"26.925\" xlink:href=\"#m271735dadc\" y=\"11.082857\"/>\r\n      </g>\r\n     </g>\r\n     <g id=\"text_7\">\r\n      <!-- 0 -->\r\n      <g transform=\"translate(13.5625 14.882076)scale(0.1 -0.1)\">\r\n       <use xlink:href=\"#DejaVuSans-48\"/>\r\n      </g>\r\n     </g>\r\n    </g>\r\n    <g id=\"ytick_2\">\r\n     <g id=\"line2d_8\">\r\n      <g>\r\n       <use style=\"stroke:#000000;stroke-width:0.8;\" x=\"26.925\" xlink:href=\"#m271735dadc\" y=\"49.911429\"/>\r\n      </g>\r\n     </g>\r\n     <g id=\"text_8\">\r\n      <!-- 5 -->\r\n      <g transform=\"translate(13.5625 53.710647)scale(0.1 -0.1)\">\r\n       <use xlink:href=\"#DejaVuSans-53\"/>\r\n      </g>\r\n     </g>\r\n    </g>\r\n    <g id=\"ytick_3\">\r\n     <g id=\"line2d_9\">\r\n      <g>\r\n       <use style=\"stroke:#000000;stroke-width:0.8;\" x=\"26.925\" xlink:href=\"#m271735dadc\" y=\"88.74\"/>\r\n      </g>\r\n     </g>\r\n     <g id=\"text_9\">\r\n      <!-- 10 -->\r\n      <g transform=\"translate(7.2 92.539219)scale(0.1 -0.1)\">\r\n       <use xlink:href=\"#DejaVuSans-49\"/>\r\n       <use x=\"63.623047\" xlink:href=\"#DejaVuSans-48\"/>\r\n      </g>\r\n     </g>\r\n    </g>\r\n    <g id=\"ytick_4\">\r\n     <g id=\"line2d_10\">\r\n      <g>\r\n       <use style=\"stroke:#000000;stroke-width:0.8;\" x=\"26.925\" xlink:href=\"#m271735dadc\" y=\"127.568571\"/>\r\n      </g>\r\n     </g>\r\n     <g id=\"text_10\">\r\n      <!-- 15 -->\r\n      <g transform=\"translate(7.2 131.36779)scale(0.1 -0.1)\">\r\n       <use xlink:href=\"#DejaVuSans-49\"/>\r\n       <use x=\"63.623047\" xlink:href=\"#DejaVuSans-53\"/>\r\n      </g>\r\n     </g>\r\n    </g>\r\n    <g id=\"ytick_5\">\r\n     <g id=\"line2d_11\">\r\n      <g>\r\n       <use style=\"stroke:#000000;stroke-width:0.8;\" x=\"26.925\" xlink:href=\"#m271735dadc\" y=\"166.397143\"/>\r\n      </g>\r\n     </g>\r\n     <g id=\"text_11\">\r\n      <!-- 20 -->\r\n      <g transform=\"translate(7.2 170.196362)scale(0.1 -0.1)\">\r\n       <use xlink:href=\"#DejaVuSans-50\"/>\r\n       <use x=\"63.623047\" xlink:href=\"#DejaVuSans-48\"/>\r\n      </g>\r\n     </g>\r\n    </g>\r\n    <g id=\"ytick_6\">\r\n     <g id=\"line2d_12\">\r\n      <g>\r\n       <use style=\"stroke:#000000;stroke-width:0.8;\" x=\"26.925\" xlink:href=\"#m271735dadc\" y=\"205.225714\"/>\r\n      </g>\r\n     </g>\r\n     <g id=\"text_12\">\r\n      <!-- 25 -->\r\n      <g transform=\"translate(7.2 209.024933)scale(0.1 -0.1)\">\r\n       <use xlink:href=\"#DejaVuSans-50\"/>\r\n       <use x=\"63.623047\" xlink:href=\"#DejaVuSans-53\"/>\r\n      </g>\r\n     </g>\r\n    </g>\r\n   </g>\r\n   <g id=\"patch_3\">\r\n    <path d=\"M 26.925 224.64 \r\nL 26.925 7.2 \r\n\" style=\"fill:none;stroke:#000000;stroke-linecap:square;stroke-linejoin:miter;stroke-width:0.8;\"/>\r\n   </g>\r\n   <g id=\"patch_4\">\r\n    <path d=\"M 244.365 224.64 \r\nL 244.365 7.2 \r\n\" style=\"fill:none;stroke:#000000;stroke-linecap:square;stroke-linejoin:miter;stroke-width:0.8;\"/>\r\n   </g>\r\n   <g id=\"patch_5\">\r\n    <path d=\"M 26.925 224.64 \r\nL 244.365 224.64 \r\n\" style=\"fill:none;stroke:#000000;stroke-linecap:square;stroke-linejoin:miter;stroke-width:0.8;\"/>\r\n   </g>\r\n   <g id=\"patch_6\">\r\n    <path d=\"M 26.925 7.2 \r\nL 244.365 7.2 \r\n\" style=\"fill:none;stroke:#000000;stroke-linecap:square;stroke-linejoin:miter;stroke-width:0.8;\"/>\r\n   </g>\r\n  </g>\r\n </g>\r\n <defs>\r\n  <clipPath id=\"pb6633a951b\">\r\n   <rect height=\"217.44\" width=\"217.44\" x=\"26.925\" y=\"7.2\"/>\r\n  </clipPath>\r\n </defs>\r\n</svg>\r\n",
      "image/png": "[encoded data removed]"
     },
     "metadata": {
      "needs_background": "light"
     }
    }
   ],
   "source": [
    "# train_images = np.apply_along_axis(\n",
    "#   , \n",
    "#   1, \n",
    "#   train_images\n",
    "#)\n",
    "# train_images = np.expand_dims(train_images, axis=3)\n",
    "\n",
    "nb_random = randrange(0, len(data))\n",
    "\n",
    "img = data[nb_random]\n",
    "plt.imshow(img, cmap='Greys')\n",
    "print( \"C'est un \" + loader.int_to_letter(np.argmax(labels[nb_random])))\n",
    "\n",
    "del(img, nb_random)"
   ]
  },
  {
   "source": [
    "## Construction du modèle"
   ],
   "cell_type": "markdown",
   "metadata": {}
  },
  {
   "cell_type": "code",
   "execution_count": 14,
   "metadata": {},
   "outputs": [],
   "source": [
    "num_filters = 8\n",
    "filter_size = 3\n",
    "pool_size = 2\n",
    "\n",
    "model = Sequential([\n",
    "  Conv2D(num_filters, filter_size, input_shape=(28, 28, 1)),\n",
    "  MaxPooling2D(pool_size=pool_size),\n",
    "  Flatten(),\n",
    "  Dense(26, activation='softmax'),\n",
    "])\n",
    "\n",
    "optimizer = 'adam'\n",
    "\n",
    "model.compile(\n",
    "  optimizer,\n",
    "  loss='categorical_crossentropy',\n",
    "  metrics=['accuracy'],\n",
    ")"
   ]
  },
  {
   "source": [
    "## Entrainement du modèle"
   ],
   "cell_type": "markdown",
   "metadata": {}
  },
  {
   "cell_type": "code",
   "execution_count": 15,
   "metadata": {
    "tags": []
   },
   "outputs": [
    {
     "output_type": "stream",
     "name": "stdout",
     "text": [
      "num_filters:\t 8 \n",
      "filter_size:\t 3 \n",
      "pool_size:\t 2 \n",
      "optimizer:\t adam \n",
      "nb_epoch:\t 12\n",
      "Train on 28712 samples, validate on 9571 samples\n",
      "Epoch 1/12\n",
      "28712/28712 [==============================] - 6s 205us/step - loss: 0.8809 - accuracy: 0.7600 - val_loss: 0.6038 - val_accuracy: 0.8328\n",
      "Epoch 2/12\n",
      "28712/28712 [==============================] - 5s 172us/step - loss: 0.5466 - accuracy: 0.8520 - val_loss: 0.5263 - val_accuracy: 0.8531\n",
      "Epoch 3/12\n",
      "28712/28712 [==============================] - 5s 172us/step - loss: 0.4537 - accuracy: 0.8773 - val_loss: 0.4386 - val_accuracy: 0.8793\n",
      "Epoch 4/12\n",
      "28712/28712 [==============================] - 5s 172us/step - loss: 0.3733 - accuracy: 0.8996 - val_loss: 0.3773 - val_accuracy: 0.8982\n",
      "Epoch 5/12\n",
      "28712/28712 [==============================] - 5s 177us/step - loss: 0.3085 - accuracy: 0.9181 - val_loss: 0.3235 - val_accuracy: 0.9111\n",
      "Epoch 6/12\n",
      "28712/28712 [==============================] - 5s 182us/step - loss: 0.2619 - accuracy: 0.9296 - val_loss: 0.2994 - val_accuracy: 0.9176\n",
      "Epoch 7/12\n",
      "28712/28712 [==============================] - 5s 173us/step - loss: 0.2268 - accuracy: 0.9406 - val_loss: 0.2804 - val_accuracy: 0.9239\n",
      "Epoch 8/12\n",
      "28712/28712 [==============================] - 5s 170us/step - loss: 0.1997 - accuracy: 0.9467 - val_loss: 0.2641 - val_accuracy: 0.9269\n",
      "Epoch 9/12\n",
      "28712/28712 [==============================] - 5s 177us/step - loss: 0.1784 - accuracy: 0.9531 - val_loss: 0.2586 - val_accuracy: 0.9315\n",
      "Epoch 10/12\n",
      "28712/28712 [==============================] - 5s 174us/step - loss: 0.1628 - accuracy: 0.9547 - val_loss: 0.2406 - val_accuracy: 0.9347\n",
      "Epoch 11/12\n",
      "28712/28712 [==============================] - 5s 179us/step - loss: 0.1498 - accuracy: 0.9598 - val_loss: 0.2363 - val_accuracy: 0.9383\n",
      "Epoch 12/12\n",
      "28712/28712 [==============================] - 5s 185us/step - loss: 0.1350 - accuracy: 0.9643 - val_loss: 0.2350 - val_accuracy: 0.9353\n"
     ]
    }
   ],
   "source": [
    "nb_epoch = 12\n",
    "\n",
    "print(\n",
    "  'num_filters:\\t', num_filters,\n",
    "  '\\nfilter_size:\\t', filter_size,\n",
    "  '\\npool_size:\\t', pool_size,\n",
    "  '\\noptimizer:\\t', optimizer,\n",
    "  '\\nnb_epoch:\\t', nb_epoch,\n",
    ")\n",
    "\n",
    "history = model.fit(\n",
    "  data,\n",
    "  labels,\n",
    "  epochs=nb_epoch,\n",
    "  validation_split=0.25,\n",
    ")\n",
    "\n",
    "# pprint(\n",
    "#   history.history\n",
    "# )\n",
    "\n",
    "model.save(str(int(len(data)/26)) + '_CNN.h5')"
   ]
  },
  {
   "cell_type": "code",
   "execution_count": 36,
   "metadata": {},
   "outputs": [
    {
     "output_type": "stream",
     "name": "stdout",
     "text": [
      "Prediciton:\t ['D', 'J', 'V', 'H', 'G', 'B', 'V', 'R', 'J', 'Y', 'S', 'Y', 'P', 'T', 'J', 'P', 'S', 'Q', 'P', 'M', 'Y', 'Y', 'U', 'Z', 'F', 'K', 'M', 'A', 'A'] \nVérité:\t\t ['D', 'J', 'V', 'H', 'G', 'B', 'V', 'R', 'J', 'Y', 'S', 'Y', 'P', 'T', 'J', 'P', 'S', 'Q', 'P', 'M', 'Y', 'Y', 'U', 'Z', 'F', 'K', 'M', 'A', 'A'] \nLe modèle donne un resultat juste ?  True\n"
     ]
    }
   ],
   "source": [
    "def transform_to_letter(index: int):\n",
    "    alphabet = ['A', 'B', 'C', 'D', 'E', 'F', 'G', 'H', 'I', 'J', 'K', 'L', 'M', 'N', 'O', 'P', 'Q', 'R', 'S', 'T', 'U', 'V', 'W', 'X', 'Y', 'Z']\n",
    "    return alphabet[index]\n",
    "\n",
    "# from keras.models import load_model\n",
    "# model = load_model('1000_CNN.h5')\n",
    "\n",
    "nb_element = 29\n",
    "nb_random = randrange(0, len(data)-nb_element)\n",
    "\n",
    "\n",
    "prediction = [ transform_to_letter(lettre) for lettre in np.argmax(model.predict(data[nb_random:nb_random+nb_element]) , axis=1)]\n",
    "verite = [ transform_to_letter(np.argmax(lettre))  for lettre in labels[nb_random:nb_random+nb_element] ] \n",
    "\n",
    "print(\n",
    "    'Prediciton:\\t', prediction,\n",
    "    '\\nVérité:\\t\\t', verite,\n",
    "    '\\nLe modèle donne un resultat juste ? ', prediction == verite\n",
    ")"
   ]
  },
  {
   "source": [
    "# Les hyperparamètres à tester:"
   ],
   "cell_type": "markdown",
   "metadata": {}
  },
  {
   "source": [
    "## Network Depth\n",
    "What happens if we add or remove Convolutional layers? How does that affect training and/or the model’s final performance?\n",
    "```\n",
    "model = Sequential([\n",
    "  Conv2D(num_filters, filter_size, input_shape=(28, 28, 1)),\n",
    "\n",
    "  Conv2D(num_filters, filter_size),\n",
    "  \n",
    "  MaxPooling2D(pool_size=pool_size),\n",
    "  Flatten(),\n",
    "  Dense(10, activation='softmax'),\n",
    "])\n",
    "```"
   ],
   "cell_type": "markdown",
   "metadata": {}
  },
  {
   "source": [
    "## Dropout\n",
    "What if we tried adding Dropout layers, which are commonly used to prevent overfitting (surentrainement) ?\n",
    "```\n",
    "from tensorflow.keras.layers import Dropout\n",
    "\n",
    "model = Sequential([\n",
    "  Conv2D(num_filters, filter_size, input_shape=(28, 28, 1)),\n",
    "  MaxPooling2D(pool_size=pool_size),\n",
    "  \n",
    "  Dropout(0.5),\n",
    "\n",
    "  Flatten(),\n",
    "  Dense(10, activation='softmax'),\n",
    "])\n",
    "```"
   ],
   "cell_type": "markdown",
   "metadata": {}
  },
  {
   "source": [
    "## Fully-connected Layers\n",
    "What if we add fully-connected layers between the Convolutional outputs and the final Softmax layer? This is something commonly done in CNNs used for Computer Vision.\n",
    "\n",
    "```\n",
    "model = Sequential([\n",
    "  Conv2D(num_filters, filter_size, input_shape=(28, 28, 1)),\n",
    "  MaxPooling2D(pool_size=pool_size),\n",
    "  Flatten(),\n",
    "\n",
    "  Dense(64, activation='relu'),\n",
    "  \n",
    "  Dense(10, activation='softmax'),\n",
    "])\n",
    "```"
   ],
   "cell_type": "markdown",
   "metadata": {}
  },
  {
   "source": [
    "## Convolution Parameters\n",
    "\n",
    "What if we play with the Conv2D parameters? For example:\n",
    "\n",
    "```\n",
    "Conv2D(\n",
    "    num_filters,\n",
    "    filter_size,\n",
    "    input_shape=(28, 28, 1),\n",
    "\n",
    "    strides=2,\n",
    "    padding='same',\n",
    "    activation='relu',\n",
    "    \n",
    "  ),\n",
    "```"
   ],
   "cell_type": "markdown",
   "metadata": {}
  },
  {
   "source": [
    "code complet du tutoriel :\n",
    "\n",
    "``` python\n",
    "# The full CNN code!\n",
    "####################\n",
    "import numpy as np\n",
    "import mnist\n",
    "from tensorflow.keras.models import Sequential\n",
    "from tensorflow.keras.layers import Conv2D, MaxPooling2D, Dense, Flatten\n",
    "from tensorflow.keras.utils import to_categorical\n",
    "\n",
    "train_images = mnist.train_images()\n",
    "train_labels = mnist.train_labels()\n",
    "test_images = mnist.test_images()\n",
    "test_labels = mnist.test_labels()\n",
    "\n",
    "# Normalize the images.\n",
    "train_images = (train_images / 255) - 0.5\n",
    "test_images = (test_images / 255) - 0.5\n",
    "\n",
    "# Reshape the images.\n",
    "train_images = np.expand_dims(train_images, axis=3)\n",
    "test_images = np.expand_dims(test_images, axis=3)\n",
    "\n",
    "num_filters = 8\n",
    "filter_size = 3\n",
    "pool_size = 2\n",
    "\n",
    "# Build the model.\n",
    "model = Sequential([\n",
    "  Conv2D(num_filters, filter_size, input_shape=(28, 28, 1)),\n",
    "  MaxPooling2D(pool_size=pool_size),\n",
    "  Flatten(),\n",
    "  Dense(10, activation='softmax'),\n",
    "])\n",
    "\n",
    "# Compile the model.\n",
    "model.compile(\n",
    "  'adam',\n",
    "  loss='categorical_crossentropy',\n",
    "  metrics=['accuracy'],\n",
    ")\n",
    "\n",
    "# Train the model.\n",
    "model.fit(\n",
    "  train_images,\n",
    "  to_categorical(train_labels),\n",
    "  epochs=3,\n",
    "  validation_data=(test_images, to_categorical(test_labels)),\n",
    ")\n",
    "\n",
    "# Save the model to disk.\n",
    "model.save_weights('cnn.h5')\n",
    "\n",
    "# Load the model from disk later using:\n",
    "# model.load_weights('cnn.h5')\n",
    "\n",
    "# Predict on the first 5 test images.\n",
    "predictions = model.predict(test_images[:5])\n",
    "\n",
    "# Print our model's predictions.\n",
    "print(np.argmax(predictions, axis=1)) # [7, 2, 1, 0, 4]\n",
    "\n",
    "# Check our predictions against the ground truths.\n",
    "print(test_labels[:5]) # [7, 2, 1, 0, 4]\n",
    "```"
   ],
   "cell_type": "markdown",
   "metadata": {}
  }
 ]
}