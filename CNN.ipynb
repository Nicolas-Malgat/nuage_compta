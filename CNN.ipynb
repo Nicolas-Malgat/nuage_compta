{
 "metadata": {
  "language_info": {
   "codemirror_mode": {
    "name": "ipython",
    "version": 3
   },
   "file_extension": ".py",
   "mimetype": "text/x-python",
   "name": "python",
   "nbconvert_exporter": "python",
   "pygments_lexer": "ipython3",
   "version": "3.6.12-final"
  },
  "orig_nbformat": 2,
  "kernelspec": {
   "name": "python3",
   "display_name": "Python 3.6.12 64-bit ('deep-learning': conda)",
   "metadata": {
    "interpreter": {
     "hash": "4fe2c7d8583915c62953c6af93dcc06775348c3b267ab901cb91daee53dc2af3"
    }
   }
  }
 },
 "nbformat": 4,
 "nbformat_minor": 2,
 "cells": [
  {
   "source": [
    "## Adaptation du tutoriel vers le texte"
   ],
   "cell_type": "markdown",
   "metadata": {}
  },
  {
   "cell_type": "code",
   "execution_count": 1,
   "metadata": {},
   "outputs": [
    {
     "output_type": "stream",
     "name": "stderr",
     "text": [
      "Using TensorFlow backend.\n",
      "env:  deep-learning\n"
     ]
    }
   ],
   "source": [
    "import numpy as np\n",
    "from keras.models import Sequential\n",
    "from keras import layers\n",
    "from keras.utils import to_categorical\n",
    "from keras.preprocessing.image import ImageDataGenerator\n",
    "import mnist\n",
    "\n",
    "import matplotlib.pyplot as plt\n",
    "from random import randrange\n",
    "from math import floor\n",
    "\n",
    "from keras.utils import np_utils\n",
    "\n",
    "from modules.loader import ComptaDataLoader\n",
    "\n",
    "print('env: ', os.environ['CONDA_DEFAULT_ENV'])\n",
    "%load_ext autoreload\n",
    "%autoreload 2"
   ]
  },
  {
   "source": [
    "## Téléchargement des données"
   ],
   "cell_type": "markdown",
   "metadata": {}
  },
  {
   "cell_type": "code",
   "execution_count": 2,
   "metadata": {},
   "outputs": [
    {
     "output_type": "stream",
     "name": "stdout",
     "text": [
      "Les fichiers sont correctement téléchargés\n"
     ]
    }
   ],
   "source": [
    "loader = ComptaDataLoader()\n",
    "loader.ensure_data_loaded()"
   ]
  },
  {
   "source": [
    "## Creation d'un CSV"
   ],
   "cell_type": "markdown",
   "metadata": {}
  },
  {
   "cell_type": "code",
   "execution_count": 3,
   "metadata": {},
   "outputs": [],
   "source": [
    "# loader.create_csv(100)"
   ]
  },
  {
   "source": [
    "## Lecture des csv"
   ],
   "cell_type": "markdown",
   "metadata": {}
  },
  {
   "cell_type": "code",
   "execution_count": 4,
   "metadata": {},
   "outputs": [
    {
     "output_type": "stream",
     "name": "stdout",
     "text": [
      "(26000, 28, 28) (26000,)\n",
      "(10000, 28, 28) (10000,)\n"
     ]
    }
   ],
   "source": [
    "path = r\"../datas/CURATED/\"\n",
    "\n",
    "lettre_data = np.genfromtxt(path + '1000_data.csv', delimiter=',')\n",
    "lettre_labels = np.genfromtxt(path + '1000_labels.csv', delimiter=',')\n",
    "\n",
    "lettre_data = np.apply_along_axis(lambda row: row.reshape(28,28), 1, lettre_data)\n",
    "\n",
    "print(\n",
    "    lettre_data.shape\n",
    "    , lettre_labels.shape\n",
    ")\n",
    "\n",
    "# beaucoup d'images (60000)\n",
    "chiffre_images = mnist.train_images()\n",
    "chiffre_labels = mnist.train_labels() + 26\n",
    "# moins d'images (10000)\n",
    "# chiffre_images = mnist.test_images()\n",
    "# chiffre_labels = mnist.test_labels() + 26\n",
    "\n",
    "# Mélange de manière synchronisé la data et les labels\n",
    "randomize = np.arange(len(chiffre_images))\n",
    "np.random.shuffle(randomize)\n",
    "chiffre_images = chiffre_images[randomize]\n",
    "chiffre_labels = chiffre_labels[randomize]\n",
    "\n",
    "chiffre_images = chiffre_images[:10000]\n",
    "chiffre_labels = chiffre_labels[:10000]\n",
    "\n",
    "print(\n",
    "    chiffre_images.shape\n",
    "    , chiffre_labels.shape\n",
    ")"
   ]
  },
  {
   "source": [
    "## Preprocessing d'image"
   ],
   "cell_type": "markdown",
   "metadata": {}
  },
  {
   "cell_type": "code",
   "execution_count": 6,
   "metadata": {},
   "outputs": [
    {
     "output_type": "stream",
     "name": "stdout",
     "text": [
      "(36000, 28, 28, 1) \n (36000, 36) \n [14, 11, 1, 22, 25, 12, 0, 33, 12, 12]\n"
     ]
    }
   ],
   "source": [
    "# Reunification des jeux\n",
    "data = np.concatenate((lettre_data, chiffre_images))\n",
    "labels = np.concatenate((lettre_labels, chiffre_labels))\n",
    "\n",
    "data = np.expand_dims(data, axis=3)\n",
    "labels = to_categorical(labels)\n",
    "\n",
    "# Explication:\n",
    "# 0     127.5   255   3 valeurs par defaut\n",
    "# 0     .25     1     /255\n",
    "# -.5   0       .5    -.5\n",
    "data = (data / 255) - 0.5\n",
    "\n",
    "# Mélange de manière synchronisé la data et les labels\n",
    "randomize = np.arange(len(data))\n",
    "np.random.shuffle(randomize)\n",
    "data = data[randomize]\n",
    "labels = labels[randomize]\n",
    "\n",
    "datagen = ImageDataGenerator(\n",
    "    featurewise_center=True,\n",
    "    featurewise_std_normalization=True,\n",
    "    rotation_range=10,\n",
    "    width_shift_range=0.2,\n",
    "    height_shift_range=0.2,\n",
    "    shear_range=0.1,\n",
    "    zoom_range=0.1,\n",
    "    horizontal_flip=True\n",
    ")\n",
    "datagen.fit(data)\n",
    "\n",
    "\n",
    "print(\n",
    "    data.shape, '\\n',\n",
    "    labels.shape, '\\n',\n",
    "    [np.argmax(row) for row in labels[:10]]\n",
    ")"
   ]
  },
  {
   "source": [
    "## Je plot une lettre:"
   ],
   "cell_type": "markdown",
   "metadata": {}
  },
  {
   "cell_type": "code",
   "execution_count": 7,
   "metadata": {},
   "outputs": [
    {
     "output_type": "stream",
     "name": "stdout",
     "text": [
      "C'est un B\n"
     ]
    },
    {
     "output_type": "display_data",
     "data": {
      "text/plain": "<Figure size 432x288 with 1 Axes>",
      "image/svg+xml": "<?xml version=\"1.0\" encoding=\"utf-8\" standalone=\"no\"?>\r\n<!DOCTYPE svg PUBLIC \"-//W3C//DTD SVG 1.1//EN\"\r\n  \"http://www.w3.org/Graphics/SVG/1.1/DTD/svg11.dtd\">\r\n<!-- Created with matplotlib (https://matplotlib.org/) -->\r\n<svg height=\"248.518125pt\" version=\"1.1\" viewBox=\"0 0 251.565 248.518125\" width=\"251.565pt\" xmlns=\"http://www.w3.org/2000/svg\" xmlns:xlink=\"http://www.w3.org/1999/xlink\">\r\n <metadata>\r\n  <rdf:RDF xmlns:cc=\"http://creativecommons.org/ns#\" xmlns:dc=\"http://purl.org/dc/elements/1.1/\" xmlns:rdf=\"http://www.w3.org/1999/02/22-rdf-syntax-ns#\">\r\n   <cc:Work>\r\n    <dc:type rdf:resource=\"http://purl.org/dc/dcmitype/StillImage\"/>\r\n    <dc:date>2020-11-23T10:26:11.371396</dc:date>\r\n    <dc:format>image/svg+xml</dc:format>\r\n    <dc:creator>\r\n     <cc:Agent>\r\n      <dc:title>Matplotlib v3.3.2, https://matplotlib.org/</dc:title>\r\n     </cc:Agent>\r\n    </dc:creator>\r\n   </cc:Work>\r\n  </rdf:RDF>\r\n </metadata>\r\n <defs>\r\n  <style type=\"text/css\">*{stroke-linecap:butt;stroke-linejoin:round;}</style>\r\n </defs>\r\n <g id=\"figure_1\">\r\n  <g id=\"patch_1\">\r\n   <path d=\"M 0 248.518125 \r\nL 251.565 248.518125 \r\nL 251.565 0 \r\nL 0 0 \r\nz\r\n\" style=\"fill:none;\"/>\r\n  </g>\r\n  <g id=\"axes_1\">\r\n   <g id=\"patch_2\">\r\n    <path d=\"M 26.925 224.64 \r\nL 244.365 224.64 \r\nL 244.365 7.2 \r\nL 26.925 7.2 \r\nz\r\n\" style=\"fill:#ffffff;\"/>\r\n   </g>\r\n   <g clip-path=\"url(#peed83c8386)\">\r\n    <image height=\"218\" id=\"image9fb4866921\" transform=\"scale(1 -1)translate(0 -218)\" width=\"218\" x=\"26.925\" xlink:href=\"data:image/png;base64,\r\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\" y=\"-6.64\"/>\r\n   </g>\r\n   <g id=\"matplotlib.axis_1\">\r\n    <g id=\"xtick_1\">\r\n     <g id=\"line2d_1\">\r\n      <defs>\r\n       <path d=\"M 0 0 \r\nL 0 3.5 \r\n\" id=\"mb6812d55b0\" style=\"stroke:#000000;stroke-width:0.8;\"/>\r\n      </defs>\r\n      <g>\r\n       <use style=\"stroke:#000000;stroke-width:0.8;\" x=\"30.807857\" xlink:href=\"#mb6812d55b0\" y=\"224.64\"/>\r\n      </g>\r\n     </g>\r\n     <g id=\"text_1\">\r\n      <!-- 0 -->\r\n      <g transform=\"translate(27.626607 239.238437)scale(0.1 -0.1)\">\r\n       <defs>\r\n        <path d=\"M 31.78125 66.40625 \r\nQ 24.171875 66.40625 20.328125 58.90625 \r\nQ 16.5 51.421875 16.5 36.375 \r\nQ 16.5 21.390625 20.328125 13.890625 \r\nQ 24.171875 6.390625 31.78125 6.390625 \r\nQ 39.453125 6.390625 43.28125 13.890625 \r\nQ 47.125 21.390625 47.125 36.375 \r\nQ 47.125 51.421875 43.28125 58.90625 \r\nQ 39.453125 66.40625 31.78125 66.40625 \r\nz\r\nM 31.78125 74.21875 \r\nQ 44.046875 74.21875 50.515625 64.515625 \r\nQ 56.984375 54.828125 56.984375 36.375 \r\nQ 56.984375 17.96875 50.515625 8.265625 \r\nQ 44.046875 -1.421875 31.78125 -1.421875 \r\nQ 19.53125 -1.421875 13.0625 8.265625 \r\nQ 6.59375 17.96875 6.59375 36.375 \r\nQ 6.59375 54.828125 13.0625 64.515625 \r\nQ 19.53125 74.21875 31.78125 74.21875 \r\nz\r\n\" id=\"DejaVuSans-48\"/>\r\n       </defs>\r\n       <use xlink:href=\"#DejaVuSans-48\"/>\r\n      </g>\r\n     </g>\r\n    </g>\r\n    <g id=\"xtick_2\">\r\n     <g id=\"line2d_2\">\r\n      <g>\r\n       <use style=\"stroke:#000000;stroke-width:0.8;\" x=\"69.636429\" xlink:href=\"#mb6812d55b0\" y=\"224.64\"/>\r\n      </g>\r\n     </g>\r\n     <g id=\"text_2\">\r\n      <!-- 5 -->\r\n      <g transform=\"translate(66.455179 239.238437)scale(0.1 -0.1)\">\r\n       <defs>\r\n        <path d=\"M 10.796875 72.90625 \r\nL 49.515625 72.90625 \r\nL 49.515625 64.59375 \r\nL 19.828125 64.59375 \r\nL 19.828125 46.734375 \r\nQ 21.96875 47.46875 24.109375 47.828125 \r\nQ 26.265625 48.1875 28.421875 48.1875 \r\nQ 40.625 48.1875 47.75 41.5 \r\nQ 54.890625 34.8125 54.890625 23.390625 \r\nQ 54.890625 11.625 47.5625 5.09375 \r\nQ 40.234375 -1.421875 26.90625 -1.421875 \r\nQ 22.3125 -1.421875 17.546875 -0.640625 \r\nQ 12.796875 0.140625 7.71875 1.703125 \r\nL 7.71875 11.625 \r\nQ 12.109375 9.234375 16.796875 8.0625 \r\nQ 21.484375 6.890625 26.703125 6.890625 \r\nQ 35.15625 6.890625 40.078125 11.328125 \r\nQ 45.015625 15.765625 45.015625 23.390625 \r\nQ 45.015625 31 40.078125 35.4375 \r\nQ 35.15625 39.890625 26.703125 39.890625 \r\nQ 22.75 39.890625 18.8125 39.015625 \r\nQ 14.890625 38.140625 10.796875 36.28125 \r\nz\r\n\" id=\"DejaVuSans-53\"/>\r\n       </defs>\r\n       <use xlink:href=\"#DejaVuSans-53\"/>\r\n      </g>\r\n     </g>\r\n    </g>\r\n    <g id=\"xtick_3\">\r\n     <g id=\"line2d_3\">\r\n      <g>\r\n       <use style=\"stroke:#000000;stroke-width:0.8;\" x=\"108.465\" xlink:href=\"#mb6812d55b0\" y=\"224.64\"/>\r\n      </g>\r\n     </g>\r\n     <g id=\"text_3\">\r\n      <!-- 10 -->\r\n      <g transform=\"translate(102.1025 239.238437)scale(0.1 -0.1)\">\r\n       <defs>\r\n        <path d=\"M 12.40625 8.296875 \r\nL 28.515625 8.296875 \r\nL 28.515625 63.921875 \r\nL 10.984375 60.40625 \r\nL 10.984375 69.390625 \r\nL 28.421875 72.90625 \r\nL 38.28125 72.90625 \r\nL 38.28125 8.296875 \r\nL 54.390625 8.296875 \r\nL 54.390625 0 \r\nL 12.40625 0 \r\nz\r\n\" id=\"DejaVuSans-49\"/>\r\n       </defs>\r\n       <use xlink:href=\"#DejaVuSans-49\"/>\r\n       <use x=\"63.623047\" xlink:href=\"#DejaVuSans-48\"/>\r\n      </g>\r\n     </g>\r\n    </g>\r\n    <g id=\"xtick_4\">\r\n     <g id=\"line2d_4\">\r\n      <g>\r\n       <use style=\"stroke:#000000;stroke-width:0.8;\" x=\"147.293571\" xlink:href=\"#mb6812d55b0\" y=\"224.64\"/>\r\n      </g>\r\n     </g>\r\n     <g id=\"text_4\">\r\n      <!-- 15 -->\r\n      <g transform=\"translate(140.931071 239.238437)scale(0.1 -0.1)\">\r\n       <use xlink:href=\"#DejaVuSans-49\"/>\r\n       <use x=\"63.623047\" xlink:href=\"#DejaVuSans-53\"/>\r\n      </g>\r\n     </g>\r\n    </g>\r\n    <g id=\"xtick_5\">\r\n     <g id=\"line2d_5\">\r\n      <g>\r\n       <use style=\"stroke:#000000;stroke-width:0.8;\" x=\"186.122143\" xlink:href=\"#mb6812d55b0\" y=\"224.64\"/>\r\n      </g>\r\n     </g>\r\n     <g id=\"text_5\">\r\n      <!-- 20 -->\r\n      <g transform=\"translate(179.759643 239.238437)scale(0.1 -0.1)\">\r\n       <defs>\r\n        <path d=\"M 19.1875 8.296875 \r\nL 53.609375 8.296875 \r\nL 53.609375 0 \r\nL 7.328125 0 \r\nL 7.328125 8.296875 \r\nQ 12.9375 14.109375 22.625 23.890625 \r\nQ 32.328125 33.6875 34.8125 36.53125 \r\nQ 39.546875 41.84375 41.421875 45.53125 \r\nQ 43.3125 49.21875 43.3125 52.78125 \r\nQ 43.3125 58.59375 39.234375 62.25 \r\nQ 35.15625 65.921875 28.609375 65.921875 \r\nQ 23.96875 65.921875 18.8125 64.3125 \r\nQ 13.671875 62.703125 7.8125 59.421875 \r\nL 7.8125 69.390625 \r\nQ 13.765625 71.78125 18.9375 73 \r\nQ 24.125 74.21875 28.421875 74.21875 \r\nQ 39.75 74.21875 46.484375 68.546875 \r\nQ 53.21875 62.890625 53.21875 53.421875 \r\nQ 53.21875 48.921875 51.53125 44.890625 \r\nQ 49.859375 40.875 45.40625 35.40625 \r\nQ 44.1875 33.984375 37.640625 27.21875 \r\nQ 31.109375 20.453125 19.1875 8.296875 \r\nz\r\n\" id=\"DejaVuSans-50\"/>\r\n       </defs>\r\n       <use xlink:href=\"#DejaVuSans-50\"/>\r\n       <use x=\"63.623047\" xlink:href=\"#DejaVuSans-48\"/>\r\n      </g>\r\n     </g>\r\n    </g>\r\n    <g id=\"xtick_6\">\r\n     <g id=\"line2d_6\">\r\n      <g>\r\n       <use style=\"stroke:#000000;stroke-width:0.8;\" x=\"224.950714\" xlink:href=\"#mb6812d55b0\" y=\"224.64\"/>\r\n      </g>\r\n     </g>\r\n     <g id=\"text_6\">\r\n      <!-- 25 -->\r\n      <g transform=\"translate(218.588214 239.238437)scale(0.1 -0.1)\">\r\n       <use xlink:href=\"#DejaVuSans-50\"/>\r\n       <use x=\"63.623047\" xlink:href=\"#DejaVuSans-53\"/>\r\n      </g>\r\n     </g>\r\n    </g>\r\n   </g>\r\n   <g id=\"matplotlib.axis_2\">\r\n    <g id=\"ytick_1\">\r\n     <g id=\"line2d_7\">\r\n      <defs>\r\n       <path d=\"M 0 0 \r\nL -3.5 0 \r\n\" id=\"mbdf86910bc\" style=\"stroke:#000000;stroke-width:0.8;\"/>\r\n      </defs>\r\n      <g>\r\n       <use style=\"stroke:#000000;stroke-width:0.8;\" x=\"26.925\" xlink:href=\"#mbdf86910bc\" y=\"11.082857\"/>\r\n      </g>\r\n     </g>\r\n     <g id=\"text_7\">\r\n      <!-- 0 -->\r\n      <g transform=\"translate(13.5625 14.882076)scale(0.1 -0.1)\">\r\n       <use xlink:href=\"#DejaVuSans-48\"/>\r\n      </g>\r\n     </g>\r\n    </g>\r\n    <g id=\"ytick_2\">\r\n     <g id=\"line2d_8\">\r\n      <g>\r\n       <use style=\"stroke:#000000;stroke-width:0.8;\" x=\"26.925\" xlink:href=\"#mbdf86910bc\" y=\"49.911429\"/>\r\n      </g>\r\n     </g>\r\n     <g id=\"text_8\">\r\n      <!-- 5 -->\r\n      <g transform=\"translate(13.5625 53.710647)scale(0.1 -0.1)\">\r\n       <use xlink:href=\"#DejaVuSans-53\"/>\r\n      </g>\r\n     </g>\r\n    </g>\r\n    <g id=\"ytick_3\">\r\n     <g id=\"line2d_9\">\r\n      <g>\r\n       <use style=\"stroke:#000000;stroke-width:0.8;\" x=\"26.925\" xlink:href=\"#mbdf86910bc\" y=\"88.74\"/>\r\n      </g>\r\n     </g>\r\n     <g id=\"text_9\">\r\n      <!-- 10 -->\r\n      <g transform=\"translate(7.2 92.539219)scale(0.1 -0.1)\">\r\n       <use xlink:href=\"#DejaVuSans-49\"/>\r\n       <use x=\"63.623047\" xlink:href=\"#DejaVuSans-48\"/>\r\n      </g>\r\n     </g>\r\n    </g>\r\n    <g id=\"ytick_4\">\r\n     <g id=\"line2d_10\">\r\n      <g>\r\n       <use style=\"stroke:#000000;stroke-width:0.8;\" x=\"26.925\" xlink:href=\"#mbdf86910bc\" y=\"127.568571\"/>\r\n      </g>\r\n     </g>\r\n     <g id=\"text_10\">\r\n      <!-- 15 -->\r\n      <g transform=\"translate(7.2 131.36779)scale(0.1 -0.1)\">\r\n       <use xlink:href=\"#DejaVuSans-49\"/>\r\n       <use x=\"63.623047\" xlink:href=\"#DejaVuSans-53\"/>\r\n      </g>\r\n     </g>\r\n    </g>\r\n    <g id=\"ytick_5\">\r\n     <g id=\"line2d_11\">\r\n      <g>\r\n       <use style=\"stroke:#000000;stroke-width:0.8;\" x=\"26.925\" xlink:href=\"#mbdf86910bc\" y=\"166.397143\"/>\r\n      </g>\r\n     </g>\r\n     <g id=\"text_11\">\r\n      <!-- 20 -->\r\n      <g transform=\"translate(7.2 170.196362)scale(0.1 -0.1)\">\r\n       <use xlink:href=\"#DejaVuSans-50\"/>\r\n       <use x=\"63.623047\" xlink:href=\"#DejaVuSans-48\"/>\r\n      </g>\r\n     </g>\r\n    </g>\r\n    <g id=\"ytick_6\">\r\n     <g id=\"line2d_12\">\r\n      <g>\r\n       <use style=\"stroke:#000000;stroke-width:0.8;\" x=\"26.925\" xlink:href=\"#mbdf86910bc\" y=\"205.225714\"/>\r\n      </g>\r\n     </g>\r\n     <g id=\"text_12\">\r\n      <!-- 25 -->\r\n      <g transform=\"translate(7.2 209.024933)scale(0.1 -0.1)\">\r\n       <use xlink:href=\"#DejaVuSans-50\"/>\r\n       <use x=\"63.623047\" xlink:href=\"#DejaVuSans-53\"/>\r\n      </g>\r\n     </g>\r\n    </g>\r\n   </g>\r\n   <g id=\"patch_3\">\r\n    <path d=\"M 26.925 224.64 \r\nL 26.925 7.2 \r\n\" style=\"fill:none;stroke:#000000;stroke-linecap:square;stroke-linejoin:miter;stroke-width:0.8;\"/>\r\n   </g>\r\n   <g id=\"patch_4\">\r\n    <path d=\"M 244.365 224.64 \r\nL 244.365 7.2 \r\n\" style=\"fill:none;stroke:#000000;stroke-linecap:square;stroke-linejoin:miter;stroke-width:0.8;\"/>\r\n   </g>\r\n   <g id=\"patch_5\">\r\n    <path d=\"M 26.925 224.64 \r\nL 244.365 224.64 \r\n\" style=\"fill:none;stroke:#000000;stroke-linecap:square;stroke-linejoin:miter;stroke-width:0.8;\"/>\r\n   </g>\r\n   <g id=\"patch_6\">\r\n    <path d=\"M 26.925 7.2 \r\nL 244.365 7.2 \r\n\" style=\"fill:none;stroke:#000000;stroke-linecap:square;stroke-linejoin:miter;stroke-width:0.8;\"/>\r\n   </g>\r\n  </g>\r\n </g>\r\n <defs>\r\n  <clipPath id=\"peed83c8386\">\r\n   <rect height=\"217.44\" width=\"217.44\" x=\"26.925\" y=\"7.2\"/>\r\n  </clipPath>\r\n </defs>\r\n</svg>\r\n",
      "image/png": "[encoded data removed]"
     },
     "metadata": {
      "needs_background": "light"
     }
    }
   ],
   "source": [
    "nb_random = randrange(0, len(data))\n",
    "\n",
    "img = data[nb_random]\n",
    "plt.imshow(img, cmap='Greys')\n",
    "print( \"C'est un \" + loader.int_to_letter(np.argmax(labels[nb_random])))\n",
    "\n",
    "del(img, nb_random)"
   ]
  },
  {
   "source": [
    "## Construction du modèle"
   ],
   "cell_type": "markdown",
   "metadata": {}
  },
  {
   "cell_type": "code",
   "execution_count": 8,
   "metadata": {},
   "outputs": [],
   "source": [
    "model = Sequential([\n",
    "  layers.Conv2D(28, 3, activation='relu'),\n",
    "  layers.Conv2D(56, 3, activation='relu'),\n",
    "  layers.MaxPooling2D(2, 2),\n",
    "  layers.Dropout(0.25),\n",
    "  layers.Flatten(),\n",
    "  layers.Dense(128, activation='relu'),\n",
    "  layers.Dropout(0.5),\n",
    "  layers.Dense(36, activation='softmax')\n",
    "])\n",
    "\n",
    "model.compile(\n",
    "  'adam',\n",
    "  loss='categorical_crossentropy',\n",
    "  metrics=['accuracy'],\n",
    ")"
   ]
  },
  {
   "source": [
    "## Entrainement du modèle"
   ],
   "cell_type": "markdown",
   "metadata": {}
  },
  {
   "cell_type": "code",
   "execution_count": 9,
   "metadata": {
    "tags": []
   },
   "outputs": [
    {
     "output_type": "stream",
     "name": "stdout",
     "text": [
      "Train on 27000 samples, validate on 9000 samples\n",
      "Epoch 1/12\n",
      " - 53s - loss: 1.1659 - accuracy: 0.6654 - val_loss: 0.3071 - val_accuracy: 0.9137\n",
      "Epoch 2/12\n",
      " - 51s - loss: 0.5096 - accuracy: 0.8442 - val_loss: 0.2220 - val_accuracy: 0.9349\n",
      "Epoch 3/12\n",
      " - 50s - loss: 0.3864 - accuracy: 0.8812 - val_loss: 0.1878 - val_accuracy: 0.9426\n",
      "Epoch 4/12\n",
      " - 53s - loss: 0.3281 - accuracy: 0.8983 - val_loss: 0.1759 - val_accuracy: 0.9471\n",
      "Epoch 5/12\n",
      " - 52s - loss: 0.2819 - accuracy: 0.9089 - val_loss: 0.1656 - val_accuracy: 0.9487\n",
      "Epoch 6/12\n",
      " - 50s - loss: 0.2477 - accuracy: 0.9177 - val_loss: 0.1594 - val_accuracy: 0.9544\n",
      "Epoch 7/12\n",
      " - 52s - loss: 0.2295 - accuracy: 0.9234 - val_loss: 0.1503 - val_accuracy: 0.9541\n",
      "Epoch 8/12\n",
      " - 52s - loss: 0.2114 - accuracy: 0.9291 - val_loss: 0.1523 - val_accuracy: 0.9546\n",
      "Epoch 9/12\n",
      " - 53s - loss: 0.1951 - accuracy: 0.9350 - val_loss: 0.1486 - val_accuracy: 0.9573\n",
      "Epoch 10/12\n",
      " - 52s - loss: 0.1780 - accuracy: 0.9400 - val_loss: 0.1540 - val_accuracy: 0.9550\n",
      "Epoch 11/12\n",
      " - 54s - loss: 0.1735 - accuracy: 0.9425 - val_loss: 0.1419 - val_accuracy: 0.9574\n",
      "Epoch 12/12\n",
      " - 56s - loss: 0.1594 - accuracy: 0.9464 - val_loss: 0.1422 - val_accuracy: 0.9591\n",
      "Creation de 1000_CNN.h5\n"
     ]
    }
   ],
   "source": [
    "history = model.fit(\n",
    "  data,\n",
    "  labels,\n",
    "  epochs=12,\n",
    "  validation_split=0.25,\n",
    "  verbose=2\n",
    ")\n",
    "\n",
    "model.save(str(int(len(data)/36)) + '_CNN.h5')\n",
    "print(\n",
    "  'Creation de ' + str(int(len(data)/36)) + '_CNN.h5'\n",
    ")"
   ]
  },
  {
   "cell_type": "code",
   "execution_count": 11,
   "metadata": {},
   "outputs": [
    {
     "output_type": "stream",
     "name": "stdout",
     "text": [
      "Prediciton:\t ['V', '1', 'O', 'B', '1', 'T', '0', 'V', 'V', 'O', 'M', 'Z', '5', '9', 'J', 'W', 'T', 'I', 'G', 'X', 'O', 'T', 'O', 'C', 'S', 'F', 'K', '4', '0'] \nVérité:\t\t ['V', '1', 'O', 'B', '1', 'T', '0', 'V', 'V', 'O', 'M', 'Z', '5', '9', 'J', 'W', 'T', 'I', 'G', 'X', 'O', 'T', 'O', 'C', 'S', 'F', 'K', '4', '0'] \nLe modèle donne un resultat juste ?  True\n"
     ]
    }
   ],
   "source": [
    "def transform_to_letter(index: int):\n",
    "    alphabet = ['A', 'B', 'C', 'D', 'E', 'F', 'G', 'H', 'I', 'J', 'K', 'L', 'M', 'N', 'O', 'P', 'Q', 'R', 'S', 'T', 'U', 'V', 'W', 'X', 'Y', 'Z', '0', '1', '2', '3', '4', '5', '6', '7', '8', '9']\n",
    "    return alphabet[index]\n",
    "\n",
    "# from keras.models import load_model\n",
    "# model = load_model('1000_CNN.h5')\n",
    "\n",
    "nb_element = 29\n",
    "nb_random = randrange(0, len(data)-nb_element)\n",
    "\n",
    "\n",
    "prediction = [ transform_to_letter(lettre) for lettre in np.argmax(model.predict(data[nb_random:nb_random+nb_element]) , axis=1)]\n",
    "verite = [ transform_to_letter(np.argmax(lettre))  for lettre in labels[nb_random:nb_random+nb_element] ] \n",
    "\n",
    "print(\n",
    "    'Prediciton:\\t', prediction,\n",
    "    '\\nVérité:\\t\\t', verite,\n",
    "    '\\nLe modèle donne un resultat juste ? ', prediction == verite\n",
    ")"
   ]
  },
  {
   "source": [
    "# Les hyperparamètres à tester:"
   ],
   "cell_type": "markdown",
   "metadata": {}
  },
  {
   "source": [
    "## Network Depth\n",
    "What happens if we add or remove Convolutional layers? How does that affect training and/or the model’s final performance?\n",
    "```\n",
    "model = Sequential([\n",
    "  Conv2D(num_filters, filter_size, input_shape=(28, 28, 1)),\n",
    "\n",
    "  Conv2D(num_filters, filter_size),\n",
    "  \n",
    "  MaxPooling2D(pool_size=pool_size),\n",
    "  Flatten(),\n",
    "  Dense(10, activation='softmax'),\n",
    "])\n",
    "```"
   ],
   "cell_type": "markdown",
   "metadata": {}
  },
  {
   "source": [
    "## Dropout\n",
    "What if we tried adding Dropout layers, which are commonly used to prevent overfitting (surentrainement) ?\n",
    "```\n",
    "from tensorflow.keras.layers import Dropout\n",
    "\n",
    "model = Sequential([\n",
    "  Conv2D(num_filters, filter_size, input_shape=(28, 28, 1)),\n",
    "  MaxPooling2D(pool_size=pool_size),\n",
    "  \n",
    "  Dropout(0.5),\n",
    "\n",
    "  Flatten(),\n",
    "  Dense(10, activation='softmax'),\n",
    "])\n",
    "```"
   ],
   "cell_type": "markdown",
   "metadata": {}
  },
  {
   "source": [
    "## Fully-connected Layers\n",
    "What if we add fully-connected layers between the Convolutional outputs and the final Softmax layer? This is something commonly done in CNNs used for Computer Vision.\n",
    "\n",
    "```\n",
    "model = Sequential([\n",
    "  Conv2D(num_filters, filter_size, input_shape=(28, 28, 1)),\n",
    "  MaxPooling2D(pool_size=pool_size),\n",
    "  Flatten(),\n",
    "\n",
    "  Dense(64, activation='relu'),\n",
    "  \n",
    "  Dense(10, activation='softmax'),\n",
    "])\n",
    "```"
   ],
   "cell_type": "markdown",
   "metadata": {}
  },
  {
   "source": [
    "## Convolution Parameters\n",
    "\n",
    "What if we play with the Conv2D parameters? For example:\n",
    "\n",
    "```\n",
    "Conv2D(\n",
    "    num_filters,\n",
    "    filter_size,\n",
    "    input_shape=(28, 28, 1),\n",
    "\n",
    "    strides=2,\n",
    "    padding='same',\n",
    "    activation='relu',\n",
    "    \n",
    "  ),\n",
    "```"
   ],
   "cell_type": "markdown",
   "metadata": {}
  },
  {
   "source": [
    "code complet du tutoriel :\n",
    "\n",
    "``` python\n",
    "# The full CNN code!\n",
    "####################\n",
    "import numpy as np\n",
    "import mnist\n",
    "from tensorflow.keras.models import Sequential\n",
    "from tensorflow.keras.layers import Conv2D, MaxPooling2D, Dense, Flatten\n",
    "from tensorflow.keras.utils import to_categorical\n",
    "\n",
    "train_images = mnist.train_images()\n",
    "train_labels = mnist.train_labels()\n",
    "test_images = mnist.test_images()\n",
    "test_labels = mnist.test_labels()\n",
    "\n",
    "# Normalize the images.\n",
    "train_images = (train_images / 255) - 0.5\n",
    "test_images = (test_images / 255) - 0.5\n",
    "\n",
    "# Reshape the images.\n",
    "train_images = np.expand_dims(train_images, axis=3)\n",
    "test_images = np.expand_dims(test_images, axis=3)\n",
    "\n",
    "num_filters = 8\n",
    "filter_size = 3\n",
    "pool_size = 2\n",
    "\n",
    "# Build the model.\n",
    "model = Sequential([\n",
    "  Conv2D(num_filters, filter_size, input_shape=(28, 28, 1)),\n",
    "  MaxPooling2D(pool_size=pool_size),\n",
    "  Flatten(),\n",
    "  Dense(10, activation='softmax'),\n",
    "])\n",
    "\n",
    "# Compile the model.\n",
    "model.compile(\n",
    "  'adam',\n",
    "  loss='categorical_crossentropy',\n",
    "  metrics=['accuracy'],\n",
    ")\n",
    "\n",
    "# Train the model.\n",
    "model.fit(\n",
    "  train_images,\n",
    "  to_categorical(train_labels),\n",
    "  epochs=3,\n",
    "  validation_data=(test_images, to_categorical(test_labels)),\n",
    ")\n",
    "\n",
    "# Save the model to disk.\n",
    "model.save_weights('cnn.h5')\n",
    "\n",
    "# Load the model from disk later using:\n",
    "# model.load_weights('cnn.h5')\n",
    "\n",
    "# Predict on the first 5 test images.\n",
    "predictions = model.predict(test_images[:5])\n",
    "\n",
    "# Print our model's predictions.\n",
    "print(np.argmax(predictions, axis=1)) # [7, 2, 1, 0, 4]\n",
    "\n",
    "# Check our predictions against the ground truths.\n",
    "print(test_labels[:5]) # [7, 2, 1, 0, 4]\n",
    "```"
   ],
   "cell_type": "markdown",
   "metadata": {}
  }
 ]
}