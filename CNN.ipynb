{
 "metadata": {
  "language_info": {
   "codemirror_mode": {
    "name": "ipython",
    "version": 3
   },
   "file_extension": ".py",
   "mimetype": "text/x-python",
   "name": "python",
   "nbconvert_exporter": "python",
   "pygments_lexer": "ipython3",
   "version": "3.6.12-final"
  },
  "orig_nbformat": 2,
  "kernelspec": {
   "name": "python3",
   "display_name": "Python 3.6.12 64-bit ('deep-learning': conda)",
   "metadata": {
    "interpreter": {
     "hash": "4fe2c7d8583915c62953c6af93dcc06775348c3b267ab901cb91daee53dc2af3"
    }
   }
  }
 },
 "nbformat": 4,
 "nbformat_minor": 2,
 "cells": [
  {
   "source": [
    "## Adaptation du tutoriel vers le texte"
   ],
   "cell_type": "markdown",
   "metadata": {}
  },
  {
   "cell_type": "code",
   "execution_count": 1,
   "metadata": {},
   "outputs": [
    {
     "output_type": "stream",
     "name": "stderr",
     "text": [
      "Using TensorFlow backend.\n",
      "env:  deep-learning\n"
     ]
    }
   ],
   "source": [
    "import numpy as np\n",
    "from keras.models import Sequential\n",
    "from keras import layers\n",
    "from keras.utils import to_categorical\n",
    "from keras.preprocessing.image import ImageDataGenerator\n",
    "import mnist\n",
    "\n",
    "import matplotlib.pyplot as plt\n",
    "from random import randrange\n",
    "from math import floor\n",
    "\n",
    "from keras.utils import np_utils\n",
    "\n",
    "from modules.loader import ComptaDataLoader\n",
    "\n",
    "print('env: ', os.environ['CONDA_DEFAULT_ENV'])\n",
    "%load_ext autoreload\n",
    "%autoreload 2"
   ]
  },
  {
   "source": [
    "## Téléchargement des données"
   ],
   "cell_type": "markdown",
   "metadata": {}
  },
  {
   "cell_type": "code",
   "execution_count": 2,
   "metadata": {},
   "outputs": [
    {
     "output_type": "stream",
     "name": "stdout",
     "text": [
      "Les fichiers sont correctement téléchargés\n"
     ]
    }
   ],
   "source": [
    "loader = ComptaDataLoader()\n",
    "loader.ensure_data_loaded()"
   ]
  },
  {
   "source": [
    "## Creation d'un CSV"
   ],
   "cell_type": "markdown",
   "metadata": {}
  },
  {
   "cell_type": "code",
   "execution_count": 3,
   "metadata": {},
   "outputs": [],
   "source": [
    "# loader.create_csv(100)"
   ]
  },
  {
   "source": [
    "## Lecture des csv"
   ],
   "cell_type": "markdown",
   "metadata": {}
  },
  {
   "cell_type": "code",
   "execution_count": 4,
   "metadata": {},
   "outputs": [],
   "source": [
    "path = r\"../datas/CURATED/\"\n",
    "\n",
    "data = np.genfromtxt(path + '1000_data.csv', delimiter=',')\n",
    "labels = np.genfromtxt(path + '1000_labels.csv', delimiter=',')\n",
    "\n",
    "# beaucoup d'images (60000)\n",
    "# train_images = mnist.train_images()\n",
    "# train_labels = mnist.train_labels()\n",
    "# moins d'images (10000)\n",
    "test_images = mnist.test_images()\n",
    "test_labels = mnist.test_labels() + 26\n",
    "\n",
    "test_images = test_images[:1000]\n",
    "test_labels = test_labels[:1000]"
   ]
  },
  {
   "source": [
    "## Preprocessing d'image"
   ],
   "cell_type": "markdown",
   "metadata": {}
  },
  {
   "cell_type": "code",
   "execution_count": 5,
   "metadata": {},
   "outputs": [
    {
     "output_type": "stream",
     "name": "stdout",
     "text": [
      "(12600, 28, 28, 1) \n (12600, 36) \n [29, 6, 27, 33, 34, 33, 28, 15, 29, 29]\n"
     ]
    }
   ],
   "source": [
    "# Explication:\n",
    "# 0     127.5   255   3 valeurs par defaut\n",
    "# 0     .25     1     /255\n",
    "# -.5   0       .5    -.5\n",
    "data = (data / 255) - 0.5\n",
    "\n",
    "data = np.apply_along_axis(lambda row: row.reshape(28,28), 1, data)\n",
    "\n",
    "# Reunification des jeux\n",
    "data = np.concatenate((data, test_images))\n",
    "labels = np.concatenate((labels, test_labels))\n",
    "\n",
    "data = np.expand_dims(data, axis=3)\n",
    "labels = to_categorical(labels)\n",
    "\n",
    "# Mélange de manière synchronisé la data et les labels\n",
    "randomize = np.arange(len(data))\n",
    "np.random.shuffle(randomize)\n",
    "data = data[randomize]\n",
    "labels = labels[randomize]\n",
    "\n",
    "datagen = ImageDataGenerator(\n",
    "    featurewise_center=True,\n",
    "    featurewise_std_normalization=True,\n",
    "    rotation_range=10,\n",
    "    width_shift_range=0.2,\n",
    "    height_shift_range=0.2,\n",
    "    shear_range=0.1,\n",
    "    zoom_range=0.1,\n",
    "    horizontal_flip=True\n",
    ")\n",
    "datagen.fit(data)\n",
    "\n",
    "\n",
    "print(\n",
    "    data.shape, '\\n',\n",
    "    labels.shape, '\\n',\n",
    "    [np.argmax(row) for row in labels[:10]]\n",
    ")"
   ]
  },
  {
   "source": [
    "## Je plot une lettre:"
   ],
   "cell_type": "markdown",
   "metadata": {}
  },
  {
   "cell_type": "code",
   "execution_count": 24,
   "metadata": {},
   "outputs": [
    {
     "output_type": "stream",
     "name": "stdout",
     "text": [
      "C'est un 2\n"
     ]
    },
    {
     "output_type": "display_data",
     "data": {
      "text/plain": "<Figure size 432x288 with 1 Axes>",
      "image/svg+xml": "<?xml version=\"1.0\" encoding=\"utf-8\" standalone=\"no\"?>\r\n<!DOCTYPE svg PUBLIC \"-//W3C//DTD SVG 1.1//EN\"\r\n  \"http://www.w3.org/Graphics/SVG/1.1/DTD/svg11.dtd\">\r\n<!-- Created with matplotlib (https://matplotlib.org/) -->\r\n<svg height=\"248.518125pt\" version=\"1.1\" viewBox=\"0 0 251.565 248.518125\" width=\"251.565pt\" xmlns=\"http://www.w3.org/2000/svg\" xmlns:xlink=\"http://www.w3.org/1999/xlink\">\r\n <metadata>\r\n  <rdf:RDF xmlns:cc=\"http://creativecommons.org/ns#\" xmlns:dc=\"http://purl.org/dc/elements/1.1/\" xmlns:rdf=\"http://www.w3.org/1999/02/22-rdf-syntax-ns#\">\r\n   <cc:Work>\r\n    <dc:type rdf:resource=\"http://purl.org/dc/dcmitype/StillImage\"/>\r\n    <dc:date>2020-11-23T02:05:19.447893</dc:date>\r\n    <dc:format>image/svg+xml</dc:format>\r\n    <dc:creator>\r\n     <cc:Agent>\r\n      <dc:title>Matplotlib v3.3.2, https://matplotlib.org/</dc:title>\r\n     </cc:Agent>\r\n    </dc:creator>\r\n   </cc:Work>\r\n  </rdf:RDF>\r\n </metadata>\r\n <defs>\r\n  <style type=\"text/css\">*{stroke-linecap:butt;stroke-linejoin:round;}</style>\r\n </defs>\r\n <g id=\"figure_1\">\r\n  <g id=\"patch_1\">\r\n   <path d=\"M 0 248.518125 \r\nL 251.565 248.518125 \r\nL 251.565 0 \r\nL 0 0 \r\nz\r\n\" style=\"fill:none;\"/>\r\n  </g>\r\n  <g id=\"axes_1\">\r\n   <g id=\"patch_2\">\r\n    <path d=\"M 26.925 224.64 \r\nL 244.365 224.64 \r\nL 244.365 7.2 \r\nL 26.925 7.2 \r\nz\r\n\" style=\"fill:#ffffff;\"/>\r\n   </g>\r\n   <g clip-path=\"url(#p7c234268e6)\">\r\n    <image height=\"218\" id=\"imageb9a3f5a1e4\" transform=\"scale(1 -1)translate(0 -218)\" width=\"218\" x=\"26.925\" xlink:href=\"data:image/png;base64,\r\niVBORw0KGgoAAAANSUhEUgAAANoAAADaCAYAAADAHVzbAAAGcUlEQVR4nO3dz4tOfQPH8RkzbiJDivJrpokRWcwCG8VGdmYz/AGUUrIiC03JGNJQyk5ZSlbKr0xZWCqiLCw0WSBWNPlRlGHmWT1PWZzv9bjG+VzG/XptP505p27v+9R8u65pn56enm4DajWn1Q8A/wZCgwChQYDQIEBoECA0CBAaBAgNAoQGAUKDAKFBgNAgQGgQIDQIEBoECA0ChAYBQoMAoUGA0CBAaBAgNAgQGgQIDQKEBgFCgwChQYDQIEBoECA0CBAaBAgNAoQGAUKDAKFBgNAgQGgQIDQI6Gzlzaempor7u3fvivupU6cqt0uXLjX1TP81Z075/0Gjo6PFfWBgoHLr7u4uXjtv3rzi/rf6/v17ce/sbOk/1xnxRoMAoUGA0CBAaBAgNAgQGgQIDQLap6enp1t189evXxf33t7e0JNkrVq1qrifOXOmuA8ODhb3hQsX/vIz/S6Tk5PF/fLly5XbjRs3itdev369uC9atKi4t5I3GgQIDQKEBgFCgwChQYDQIEBoEFDrOdq3b9+Ke39/f3EfHx9v+t5btmwp7l1dXcX9xYsXxb3RGWCd1q1bV9xv375d3Pv6+iq3Hz9+FK999uxZcR8eHi7ut27dKu4l58+fL+5Hjhxp+mfXzRsNAoQGAUKDAKFBgNAgQGgQUOv3dzX6VfFMfn3f1tbWtnPnzsrtzp07xWv/+eef4v7hw4fifuXKleJ+7969yu3u3bvFaxtpdPSwcePG4l76mM3Xr1+L146NjRX3Oq1fv75l954pbzQIEBoECA0ChAYBQoMAoUGA0CCg1o/JPH36tLhv3rx5Rj9/8eLFlVvpHKutrfHHaGbq4cOHldu2bdtqvfdsdfHixeJ+6NCh4t7oT2210p/7ZPAXERoECA0ChAYBQoMAoUGA0CCg1nO0qamp4n716tXivm/fvqbv3ehPFy1fvrzpn/3/eP/+feX2+fPnWu/dSj09PcX9/v37lduaNWuK13Z0dDT1TH8CbzQIEBoECA0ChAYBQoMAoUGA0CCg1nO0Rhp9h2CjPwF04cKFyq3Rd0rOZu3t7TPaG51vlqxYsaK4P3r0qLivXLmy6XvPZt5oECA0CBAaBAgNAoQGAUKDgJb+en+mSn9aaXR0tHhtoz+7VKcDBw4U9w0bNhT3TZs2FfclS5YU9/7+/srt48ePxWsb6e3tLe5Pnjyp3EpfHzjbeaNBgNAgQGgQIDQIEBoECA0ChAYBs/ocjea8fPmyctu6dWvx2omJiRnd++zZs5Xb0aNHi9f6ujmgSGgQIDQIEBoECA0ChAYBQoMA52j85OTJk8V9ZGSktns/f/68uPf19dV277p5o0GA0CBAaBAgNAgQGgQIDQKEBgHO0fjJmzdvivv27duL++vXr5u+9/Hjx4v76dOnm/7ZreaNBgFCgwChQYDQIEBoECA0CBAaBHS2+gH4s6xevbq4Dw0NFfeDBw/+zsf5a3ijQYDQIEBoECA0CBAaBAgNAnxMhl/y9u3b4t7d3d30z16wYEFxf/fuXXGfP39+0/eumzcaBAgNAoQGAUKDAKFBgNAgQGgQ4GMy/DG+fPnS6keojTcaBAgNAoQGAUKDAKFBgNAgQGgQ4ByNX/I3n3XVyRsNAoQGAUKDAKFBgNAgQGgQIDQIcI7GTz59+lTch4eHa7v3nj17ivvcuXNru3fdvNEgQGgQIDQIEBoECA0ChAYBQoMA52gVrly5Uty3bdtW3NeuXfs7H+e3Gh8fr9zOnTtXvPbatWu/+3H+Z9euXcW9o6OjtnvXzRsNAoQGAUKDAKFBgNAgQGgQ0D49PT3d6of4E3V1dRX3ycnJ4r53797K7fDhw8Vre3p6ivurV6+K+4MHD4r7sWPHKre6/zkMDQ1VbidOnChe29k5e0+jvNEgQGgQIDQIEBoECA0ChAYBQoMA52gVdu/eXdzHxsZqu/fSpUuL+8TERG33bmTZsmXFfWRkpLjv37+/cpvN52SNeKNBgNAgQGgQIDQIEBoECA0ChAYBztEqNPq82ePHj4v7zZs3K7dGX+nWSKP/ZO3t7cV9YGCgctuxY0fx2sHBweLe29tb3P+tvNEgQGgQIDQIEBoECA0ChAYBQoMA52gQ4I0GAUKDAKFBgNAgQGgQIDQIEBoECA0ChAYBQoMAoUGA0CBAaBAgNAgQGgQIDQKEBgFCgwChQYDQIEBoECA0CPgPHCEqpVPf9nwAAAAASUVORK5CYII=\" y=\"-6.64\"/>\r\n   </g>\r\n   <g id=\"matplotlib.axis_1\">\r\n    <g id=\"xtick_1\">\r\n     <g id=\"line2d_1\">\r\n      <defs>\r\n       <path d=\"M 0 0 \r\nL 0 3.5 \r\n\" id=\"m8e6ad48ae9\" style=\"stroke:#000000;stroke-width:0.8;\"/>\r\n      </defs>\r\n      <g>\r\n       <use style=\"stroke:#000000;stroke-width:0.8;\" x=\"30.807857\" xlink:href=\"#m8e6ad48ae9\" y=\"224.64\"/>\r\n      </g>\r\n     </g>\r\n     <g id=\"text_1\">\r\n      <!-- 0 -->\r\n      <g transform=\"translate(27.626607 239.238437)scale(0.1 -0.1)\">\r\n       <defs>\r\n        <path d=\"M 31.78125 66.40625 \r\nQ 24.171875 66.40625 20.328125 58.90625 \r\nQ 16.5 51.421875 16.5 36.375 \r\nQ 16.5 21.390625 20.328125 13.890625 \r\nQ 24.171875 6.390625 31.78125 6.390625 \r\nQ 39.453125 6.390625 43.28125 13.890625 \r\nQ 47.125 21.390625 47.125 36.375 \r\nQ 47.125 51.421875 43.28125 58.90625 \r\nQ 39.453125 66.40625 31.78125 66.40625 \r\nz\r\nM 31.78125 74.21875 \r\nQ 44.046875 74.21875 50.515625 64.515625 \r\nQ 56.984375 54.828125 56.984375 36.375 \r\nQ 56.984375 17.96875 50.515625 8.265625 \r\nQ 44.046875 -1.421875 31.78125 -1.421875 \r\nQ 19.53125 -1.421875 13.0625 8.265625 \r\nQ 6.59375 17.96875 6.59375 36.375 \r\nQ 6.59375 54.828125 13.0625 64.515625 \r\nQ 19.53125 74.21875 31.78125 74.21875 \r\nz\r\n\" id=\"DejaVuSans-48\"/>\r\n       </defs>\r\n       <use xlink:href=\"#DejaVuSans-48\"/>\r\n      </g>\r\n     </g>\r\n    </g>\r\n    <g id=\"xtick_2\">\r\n     <g id=\"line2d_2\">\r\n      <g>\r\n       <use style=\"stroke:#000000;stroke-width:0.8;\" x=\"69.636429\" xlink:href=\"#m8e6ad48ae9\" y=\"224.64\"/>\r\n      </g>\r\n     </g>\r\n     <g id=\"text_2\">\r\n      <!-- 5 -->\r\n      <g transform=\"translate(66.455179 239.238437)scale(0.1 -0.1)\">\r\n       <defs>\r\n        <path d=\"M 10.796875 72.90625 \r\nL 49.515625 72.90625 \r\nL 49.515625 64.59375 \r\nL 19.828125 64.59375 \r\nL 19.828125 46.734375 \r\nQ 21.96875 47.46875 24.109375 47.828125 \r\nQ 26.265625 48.1875 28.421875 48.1875 \r\nQ 40.625 48.1875 47.75 41.5 \r\nQ 54.890625 34.8125 54.890625 23.390625 \r\nQ 54.890625 11.625 47.5625 5.09375 \r\nQ 40.234375 -1.421875 26.90625 -1.421875 \r\nQ 22.3125 -1.421875 17.546875 -0.640625 \r\nQ 12.796875 0.140625 7.71875 1.703125 \r\nL 7.71875 11.625 \r\nQ 12.109375 9.234375 16.796875 8.0625 \r\nQ 21.484375 6.890625 26.703125 6.890625 \r\nQ 35.15625 6.890625 40.078125 11.328125 \r\nQ 45.015625 15.765625 45.015625 23.390625 \r\nQ 45.015625 31 40.078125 35.4375 \r\nQ 35.15625 39.890625 26.703125 39.890625 \r\nQ 22.75 39.890625 18.8125 39.015625 \r\nQ 14.890625 38.140625 10.796875 36.28125 \r\nz\r\n\" id=\"DejaVuSans-53\"/>\r\n       </defs>\r\n       <use xlink:href=\"#DejaVuSans-53\"/>\r\n      </g>\r\n     </g>\r\n    </g>\r\n    <g id=\"xtick_3\">\r\n     <g id=\"line2d_3\">\r\n      <g>\r\n       <use style=\"stroke:#000000;stroke-width:0.8;\" x=\"108.465\" xlink:href=\"#m8e6ad48ae9\" y=\"224.64\"/>\r\n      </g>\r\n     </g>\r\n     <g id=\"text_3\">\r\n      <!-- 10 -->\r\n      <g transform=\"translate(102.1025 239.238437)scale(0.1 -0.1)\">\r\n       <defs>\r\n        <path d=\"M 12.40625 8.296875 \r\nL 28.515625 8.296875 \r\nL 28.515625 63.921875 \r\nL 10.984375 60.40625 \r\nL 10.984375 69.390625 \r\nL 28.421875 72.90625 \r\nL 38.28125 72.90625 \r\nL 38.28125 8.296875 \r\nL 54.390625 8.296875 \r\nL 54.390625 0 \r\nL 12.40625 0 \r\nz\r\n\" id=\"DejaVuSans-49\"/>\r\n       </defs>\r\n       <use xlink:href=\"#DejaVuSans-49\"/>\r\n       <use x=\"63.623047\" xlink:href=\"#DejaVuSans-48\"/>\r\n      </g>\r\n     </g>\r\n    </g>\r\n    <g id=\"xtick_4\">\r\n     <g id=\"line2d_4\">\r\n      <g>\r\n       <use style=\"stroke:#000000;stroke-width:0.8;\" x=\"147.293571\" xlink:href=\"#m8e6ad48ae9\" y=\"224.64\"/>\r\n      </g>\r\n     </g>\r\n     <g id=\"text_4\">\r\n      <!-- 15 -->\r\n      <g transform=\"translate(140.931071 239.238437)scale(0.1 -0.1)\">\r\n       <use xlink:href=\"#DejaVuSans-49\"/>\r\n       <use x=\"63.623047\" xlink:href=\"#DejaVuSans-53\"/>\r\n      </g>\r\n     </g>\r\n    </g>\r\n    <g id=\"xtick_5\">\r\n     <g id=\"line2d_5\">\r\n      <g>\r\n       <use style=\"stroke:#000000;stroke-width:0.8;\" x=\"186.122143\" xlink:href=\"#m8e6ad48ae9\" y=\"224.64\"/>\r\n      </g>\r\n     </g>\r\n     <g id=\"text_5\">\r\n      <!-- 20 -->\r\n      <g transform=\"translate(179.759643 239.238437)scale(0.1 -0.1)\">\r\n       <defs>\r\n        <path d=\"M 19.1875 8.296875 \r\nL 53.609375 8.296875 \r\nL 53.609375 0 \r\nL 7.328125 0 \r\nL 7.328125 8.296875 \r\nQ 12.9375 14.109375 22.625 23.890625 \r\nQ 32.328125 33.6875 34.8125 36.53125 \r\nQ 39.546875 41.84375 41.421875 45.53125 \r\nQ 43.3125 49.21875 43.3125 52.78125 \r\nQ 43.3125 58.59375 39.234375 62.25 \r\nQ 35.15625 65.921875 28.609375 65.921875 \r\nQ 23.96875 65.921875 18.8125 64.3125 \r\nQ 13.671875 62.703125 7.8125 59.421875 \r\nL 7.8125 69.390625 \r\nQ 13.765625 71.78125 18.9375 73 \r\nQ 24.125 74.21875 28.421875 74.21875 \r\nQ 39.75 74.21875 46.484375 68.546875 \r\nQ 53.21875 62.890625 53.21875 53.421875 \r\nQ 53.21875 48.921875 51.53125 44.890625 \r\nQ 49.859375 40.875 45.40625 35.40625 \r\nQ 44.1875 33.984375 37.640625 27.21875 \r\nQ 31.109375 20.453125 19.1875 8.296875 \r\nz\r\n\" id=\"DejaVuSans-50\"/>\r\n       </defs>\r\n       <use xlink:href=\"#DejaVuSans-50\"/>\r\n       <use x=\"63.623047\" xlink:href=\"#DejaVuSans-48\"/>\r\n      </g>\r\n     </g>\r\n    </g>\r\n    <g id=\"xtick_6\">\r\n     <g id=\"line2d_6\">\r\n      <g>\r\n       <use style=\"stroke:#000000;stroke-width:0.8;\" x=\"224.950714\" xlink:href=\"#m8e6ad48ae9\" y=\"224.64\"/>\r\n      </g>\r\n     </g>\r\n     <g id=\"text_6\">\r\n      <!-- 25 -->\r\n      <g transform=\"translate(218.588214 239.238437)scale(0.1 -0.1)\">\r\n       <use xlink:href=\"#DejaVuSans-50\"/>\r\n       <use x=\"63.623047\" xlink:href=\"#DejaVuSans-53\"/>\r\n      </g>\r\n     </g>\r\n    </g>\r\n   </g>\r\n   <g id=\"matplotlib.axis_2\">\r\n    <g id=\"ytick_1\">\r\n     <g id=\"line2d_7\">\r\n      <defs>\r\n       <path d=\"M 0 0 \r\nL -3.5 0 \r\n\" id=\"m44f3d26400\" style=\"stroke:#000000;stroke-width:0.8;\"/>\r\n      </defs>\r\n      <g>\r\n       <use style=\"stroke:#000000;stroke-width:0.8;\" x=\"26.925\" xlink:href=\"#m44f3d26400\" y=\"11.082857\"/>\r\n      </g>\r\n     </g>\r\n     <g id=\"text_7\">\r\n      <!-- 0 -->\r\n      <g transform=\"translate(13.5625 14.882076)scale(0.1 -0.1)\">\r\n       <use xlink:href=\"#DejaVuSans-48\"/>\r\n      </g>\r\n     </g>\r\n    </g>\r\n    <g id=\"ytick_2\">\r\n     <g id=\"line2d_8\">\r\n      <g>\r\n       <use style=\"stroke:#000000;stroke-width:0.8;\" x=\"26.925\" xlink:href=\"#m44f3d26400\" y=\"49.911429\"/>\r\n      </g>\r\n     </g>\r\n     <g id=\"text_8\">\r\n      <!-- 5 -->\r\n      <g transform=\"translate(13.5625 53.710647)scale(0.1 -0.1)\">\r\n       <use xlink:href=\"#DejaVuSans-53\"/>\r\n      </g>\r\n     </g>\r\n    </g>\r\n    <g id=\"ytick_3\">\r\n     <g id=\"line2d_9\">\r\n      <g>\r\n       <use style=\"stroke:#000000;stroke-width:0.8;\" x=\"26.925\" xlink:href=\"#m44f3d26400\" y=\"88.74\"/>\r\n      </g>\r\n     </g>\r\n     <g id=\"text_9\">\r\n      <!-- 10 -->\r\n      <g transform=\"translate(7.2 92.539219)scale(0.1 -0.1)\">\r\n       <use xlink:href=\"#DejaVuSans-49\"/>\r\n       <use x=\"63.623047\" xlink:href=\"#DejaVuSans-48\"/>\r\n      </g>\r\n     </g>\r\n    </g>\r\n    <g id=\"ytick_4\">\r\n     <g id=\"line2d_10\">\r\n      <g>\r\n       <use style=\"stroke:#000000;stroke-width:0.8;\" x=\"26.925\" xlink:href=\"#m44f3d26400\" y=\"127.568571\"/>\r\n      </g>\r\n     </g>\r\n     <g id=\"text_10\">\r\n      <!-- 15 -->\r\n      <g transform=\"translate(7.2 131.36779)scale(0.1 -0.1)\">\r\n       <use xlink:href=\"#DejaVuSans-49\"/>\r\n       <use x=\"63.623047\" xlink:href=\"#DejaVuSans-53\"/>\r\n      </g>\r\n     </g>\r\n    </g>\r\n    <g id=\"ytick_5\">\r\n     <g id=\"line2d_11\">\r\n      <g>\r\n       <use style=\"stroke:#000000;stroke-width:0.8;\" x=\"26.925\" xlink:href=\"#m44f3d26400\" y=\"166.397143\"/>\r\n      </g>\r\n     </g>\r\n     <g id=\"text_11\">\r\n      <!-- 20 -->\r\n      <g transform=\"translate(7.2 170.196362)scale(0.1 -0.1)\">\r\n       <use xlink:href=\"#DejaVuSans-50\"/>\r\n       <use x=\"63.623047\" xlink:href=\"#DejaVuSans-48\"/>\r\n      </g>\r\n     </g>\r\n    </g>\r\n    <g id=\"ytick_6\">\r\n     <g id=\"line2d_12\">\r\n      <g>\r\n       <use style=\"stroke:#000000;stroke-width:0.8;\" x=\"26.925\" xlink:href=\"#m44f3d26400\" y=\"205.225714\"/>\r\n      </g>\r\n     </g>\r\n     <g id=\"text_12\">\r\n      <!-- 25 -->\r\n      <g transform=\"translate(7.2 209.024933)scale(0.1 -0.1)\">\r\n       <use xlink:href=\"#DejaVuSans-50\"/>\r\n       <use x=\"63.623047\" xlink:href=\"#DejaVuSans-53\"/>\r\n      </g>\r\n     </g>\r\n    </g>\r\n   </g>\r\n   <g id=\"patch_3\">\r\n    <path d=\"M 26.925 224.64 \r\nL 26.925 7.2 \r\n\" style=\"fill:none;stroke:#000000;stroke-linecap:square;stroke-linejoin:miter;stroke-width:0.8;\"/>\r\n   </g>\r\n   <g id=\"patch_4\">\r\n    <path d=\"M 244.365 224.64 \r\nL 244.365 7.2 \r\n\" style=\"fill:none;stroke:#000000;stroke-linecap:square;stroke-linejoin:miter;stroke-width:0.8;\"/>\r\n   </g>\r\n   <g id=\"patch_5\">\r\n    <path d=\"M 26.925 224.64 \r\nL 244.365 224.64 \r\n\" style=\"fill:none;stroke:#000000;stroke-linecap:square;stroke-linejoin:miter;stroke-width:0.8;\"/>\r\n   </g>\r\n   <g id=\"patch_6\">\r\n    <path d=\"M 26.925 7.2 \r\nL 244.365 7.2 \r\n\" style=\"fill:none;stroke:#000000;stroke-linecap:square;stroke-linejoin:miter;stroke-width:0.8;\"/>\r\n   </g>\r\n  </g>\r\n </g>\r\n <defs>\r\n  <clipPath id=\"p7c234268e6\">\r\n   <rect height=\"217.44\" width=\"217.44\" x=\"26.925\" y=\"7.2\"/>\r\n  </clipPath>\r\n </defs>\r\n</svg>\r\n",
      "image/png": "[encoded data removed]"
     },
     "metadata": {
      "needs_background": "light"
     }
    }
   ],
   "source": [
    "nb_random = randrange(0, len(data))\n",
    "\n",
    "img = data[nb_random]\n",
    "plt.imshow(img, cmap='Greys')\n",
    "print( \"C'est un \" + loader.int_to_letter(np.argmax(labels[nb_random])))\n",
    "\n",
    "del(img, nb_random)"
   ]
  },
  {
   "source": [
    "## Construction du modèle"
   ],
   "cell_type": "markdown",
   "metadata": {}
  },
  {
   "cell_type": "code",
   "execution_count": 9,
   "metadata": {},
   "outputs": [],
   "source": [
    "model = Sequential([\n",
    "  layers.Conv2D(28, 3, activation='relu'),\n",
    "  layers.Conv2D(56, 3, activation='relu'),\n",
    "  layers.MaxPooling2D(2, 2),\n",
    "  layers.Dropout(0.25),\n",
    "  layers.Flatten(),\n",
    "  layers.Dense(128, activation='relu'),\n",
    "  layers.Dropout(0.5),\n",
    "  layers.Dense(36, activation='softmax')\n",
    "])\n",
    "\n",
    "model.compile(\n",
    "  'adam',\n",
    "  loss='categorical_crossentropy',\n",
    "  metrics=['accuracy'],\n",
    ")"
   ]
  },
  {
   "source": [
    "## Entrainement du modèle"
   ],
   "cell_type": "markdown",
   "metadata": {}
  },
  {
   "cell_type": "code",
   "execution_count": 10,
   "metadata": {
    "tags": []
   },
   "outputs": [
    {
     "output_type": "stream",
     "name": "stdout",
     "text": [
      "Train on 9450 samples, validate on 3150 samples\n",
      "Epoch 1/20\n",
      " - 18s - loss: 1.8705 - accuracy: 0.6018 - val_loss: 0.7734 - val_accuracy: 0.7971\n",
      "Epoch 2/20\n",
      " - 18s - loss: 0.8616 - accuracy: 0.7560 - val_loss: 0.5467 - val_accuracy: 0.8638\n",
      "Epoch 3/20\n",
      " - 18s - loss: 0.6389 - accuracy: 0.8043 - val_loss: 0.3841 - val_accuracy: 0.8997\n",
      "Epoch 4/20\n",
      " - 17s - loss: 0.5102 - accuracy: 0.8453 - val_loss: 0.3013 - val_accuracy: 0.9181\n",
      "Epoch 5/20\n",
      " - 19s - loss: 0.4311 - accuracy: 0.8655 - val_loss: 0.2601 - val_accuracy: 0.9365\n",
      "Epoch 6/20\n",
      " - 17s - loss: 0.3584 - accuracy: 0.8883 - val_loss: 0.2094 - val_accuracy: 0.9441\n",
      "Epoch 7/20\n",
      " - 18s - loss: 0.3067 - accuracy: 0.9044 - val_loss: 0.2276 - val_accuracy: 0.9390\n",
      "Epoch 8/20\n",
      " - 18s - loss: 0.2809 - accuracy: 0.9103 - val_loss: 0.1900 - val_accuracy: 0.9533\n",
      "Epoch 9/20\n",
      " - 19s - loss: 0.2649 - accuracy: 0.9154 - val_loss: 0.1991 - val_accuracy: 0.9495\n",
      "Epoch 10/20\n",
      " - 19s - loss: 0.2414 - accuracy: 0.9244 - val_loss: 0.1717 - val_accuracy: 0.9584\n",
      "Epoch 11/20\n",
      " - 19s - loss: 0.2311 - accuracy: 0.9270 - val_loss: 0.1792 - val_accuracy: 0.9502\n",
      "Epoch 12/20\n",
      " - 19s - loss: 0.2071 - accuracy: 0.9323 - val_loss: 0.1843 - val_accuracy: 0.9537\n",
      "Epoch 13/20\n",
      " - 18s - loss: 0.1942 - accuracy: 0.9369 - val_loss: 0.1693 - val_accuracy: 0.9594\n",
      "Epoch 14/20\n",
      " - 17s - loss: 0.1841 - accuracy: 0.9410 - val_loss: 0.1793 - val_accuracy: 0.9581\n",
      "Epoch 15/20\n",
      " - 17s - loss: 0.1747 - accuracy: 0.9441 - val_loss: 0.1884 - val_accuracy: 0.9552\n",
      "Epoch 16/20\n",
      " - 18s - loss: 0.1559 - accuracy: 0.9472 - val_loss: 0.1577 - val_accuracy: 0.9648\n",
      "Epoch 17/20\n",
      " - 19s - loss: 0.1547 - accuracy: 0.9514 - val_loss: 0.1519 - val_accuracy: 0.9629\n",
      "Epoch 18/20\n",
      " - 20s - loss: 0.1431 - accuracy: 0.9523 - val_loss: 0.1802 - val_accuracy: 0.9610\n",
      "Epoch 19/20\n",
      " - 18s - loss: 0.1485 - accuracy: 0.9533 - val_loss: 0.1616 - val_accuracy: 0.9594\n",
      "Epoch 20/20\n",
      " - 17s - loss: 0.1364 - accuracy: 0.9552 - val_loss: 0.1684 - val_accuracy: 0.9619\n"
     ]
    }
   ],
   "source": [
    "history = model.fit(\n",
    "  data,\n",
    "  labels,\n",
    "  epochs=12,\n",
    "  validation_split=0.25,\n",
    "  verbose=2\n",
    ")\n",
    "\n",
    "model.save(str(int(len(data)/26)) + '_CNN.h5')"
   ]
  },
  {
   "cell_type": "code",
   "execution_count": 14,
   "metadata": {},
   "outputs": [
    {
     "output_type": "stream",
     "name": "stdout",
     "text": [
      "Prediciton:\t ['4', '0', 'N', '3', 'K', '7', '8', '4', '1', '3', 'X', '0', '6', '1', '1', '9', '8', '4', 'J', '6', '1', '9', '7', 'U', '8', '2', '5', '6', '6'] \nVérité:\t\t ['4', '0', 'N', '3', 'K', '7', '8', '4', '1', '3', 'X', '0', '6', '1', '1', '9', '8', '4', 'J', '6', '1', '9', '7', 'U', '8', '2', '5', '6', '6'] \nLe modèle donne un resultat juste ?  True\n"
     ]
    }
   ],
   "source": [
    "def transform_to_letter(index: int):\n",
    "    alphabet = ['A', 'B', 'C', 'D', 'E', 'F', 'G', 'H', 'I', 'J', 'K', 'L', 'M', 'N', 'O', 'P', 'Q', 'R', 'S', 'T', 'U', 'V', 'W', 'X', 'Y', 'Z', '0', '1', '2', '3', '4', '5', '6', '7', '8', '9']\n",
    "    return alphabet[index]\n",
    "\n",
    "# from keras.models import load_model\n",
    "# model = load_model('1000_CNN.h5')\n",
    "\n",
    "nb_element = 29\n",
    "nb_random = randrange(0, len(data)-nb_element)\n",
    "\n",
    "\n",
    "prediction = [ transform_to_letter(lettre) for lettre in np.argmax(model.predict(data[nb_random:nb_random+nb_element]) , axis=1)]\n",
    "verite = [ transform_to_letter(np.argmax(lettre))  for lettre in labels[nb_random:nb_random+nb_element] ] \n",
    "\n",
    "print(\n",
    "    'Prediciton:\\t', prediction,\n",
    "    '\\nVérité:\\t\\t', verite,\n",
    "    '\\nLe modèle donne un resultat juste ? ', prediction == verite\n",
    ")"
   ]
  },
  {
   "source": [
    "# Les hyperparamètres à tester:"
   ],
   "cell_type": "markdown",
   "metadata": {}
  },
  {
   "source": [
    "## Network Depth\n",
    "What happens if we add or remove Convolutional layers? How does that affect training and/or the model’s final performance?\n",
    "```\n",
    "model = Sequential([\n",
    "  Conv2D(num_filters, filter_size, input_shape=(28, 28, 1)),\n",
    "\n",
    "  Conv2D(num_filters, filter_size),\n",
    "  \n",
    "  MaxPooling2D(pool_size=pool_size),\n",
    "  Flatten(),\n",
    "  Dense(10, activation='softmax'),\n",
    "])\n",
    "```"
   ],
   "cell_type": "markdown",
   "metadata": {}
  },
  {
   "source": [
    "## Dropout\n",
    "What if we tried adding Dropout layers, which are commonly used to prevent overfitting (surentrainement) ?\n",
    "```\n",
    "from tensorflow.keras.layers import Dropout\n",
    "\n",
    "model = Sequential([\n",
    "  Conv2D(num_filters, filter_size, input_shape=(28, 28, 1)),\n",
    "  MaxPooling2D(pool_size=pool_size),\n",
    "  \n",
    "  Dropout(0.5),\n",
    "\n",
    "  Flatten(),\n",
    "  Dense(10, activation='softmax'),\n",
    "])\n",
    "```"
   ],
   "cell_type": "markdown",
   "metadata": {}
  },
  {
   "source": [
    "## Fully-connected Layers\n",
    "What if we add fully-connected layers between the Convolutional outputs and the final Softmax layer? This is something commonly done in CNNs used for Computer Vision.\n",
    "\n",
    "```\n",
    "model = Sequential([\n",
    "  Conv2D(num_filters, filter_size, input_shape=(28, 28, 1)),\n",
    "  MaxPooling2D(pool_size=pool_size),\n",
    "  Flatten(),\n",
    "\n",
    "  Dense(64, activation='relu'),\n",
    "  \n",
    "  Dense(10, activation='softmax'),\n",
    "])\n",
    "```"
   ],
   "cell_type": "markdown",
   "metadata": {}
  },
  {
   "source": [
    "## Convolution Parameters\n",
    "\n",
    "What if we play with the Conv2D parameters? For example:\n",
    "\n",
    "```\n",
    "Conv2D(\n",
    "    num_filters,\n",
    "    filter_size,\n",
    "    input_shape=(28, 28, 1),\n",
    "\n",
    "    strides=2,\n",
    "    padding='same',\n",
    "    activation='relu',\n",
    "    \n",
    "  ),\n",
    "```"
   ],
   "cell_type": "markdown",
   "metadata": {}
  },
  {
   "source": [
    "code complet du tutoriel :\n",
    "\n",
    "``` python\n",
    "# The full CNN code!\n",
    "####################\n",
    "import numpy as np\n",
    "import mnist\n",
    "from tensorflow.keras.models import Sequential\n",
    "from tensorflow.keras.layers import Conv2D, MaxPooling2D, Dense, Flatten\n",
    "from tensorflow.keras.utils import to_categorical\n",
    "\n",
    "train_images = mnist.train_images()\n",
    "train_labels = mnist.train_labels()\n",
    "test_images = mnist.test_images()\n",
    "test_labels = mnist.test_labels()\n",
    "\n",
    "# Normalize the images.\n",
    "train_images = (train_images / 255) - 0.5\n",
    "test_images = (test_images / 255) - 0.5\n",
    "\n",
    "# Reshape the images.\n",
    "train_images = np.expand_dims(train_images, axis=3)\n",
    "test_images = np.expand_dims(test_images, axis=3)\n",
    "\n",
    "num_filters = 8\n",
    "filter_size = 3\n",
    "pool_size = 2\n",
    "\n",
    "# Build the model.\n",
    "model = Sequential([\n",
    "  Conv2D(num_filters, filter_size, input_shape=(28, 28, 1)),\n",
    "  MaxPooling2D(pool_size=pool_size),\n",
    "  Flatten(),\n",
    "  Dense(10, activation='softmax'),\n",
    "])\n",
    "\n",
    "# Compile the model.\n",
    "model.compile(\n",
    "  'adam',\n",
    "  loss='categorical_crossentropy',\n",
    "  metrics=['accuracy'],\n",
    ")\n",
    "\n",
    "# Train the model.\n",
    "model.fit(\n",
    "  train_images,\n",
    "  to_categorical(train_labels),\n",
    "  epochs=3,\n",
    "  validation_data=(test_images, to_categorical(test_labels)),\n",
    ")\n",
    "\n",
    "# Save the model to disk.\n",
    "model.save_weights('cnn.h5')\n",
    "\n",
    "# Load the model from disk later using:\n",
    "# model.load_weights('cnn.h5')\n",
    "\n",
    "# Predict on the first 5 test images.\n",
    "predictions = model.predict(test_images[:5])\n",
    "\n",
    "# Print our model's predictions.\n",
    "print(np.argmax(predictions, axis=1)) # [7, 2, 1, 0, 4]\n",
    "\n",
    "# Check our predictions against the ground truths.\n",
    "print(test_labels[:5]) # [7, 2, 1, 0, 4]\n",
    "```"
   ],
   "cell_type": "markdown",
   "metadata": {}
  }
 ]
}