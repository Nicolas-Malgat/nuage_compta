{
 "metadata": {
  "language_info": {
   "codemirror_mode": {
    "name": "ipython",
    "version": 3
   },
   "file_extension": ".py",
   "mimetype": "text/x-python",
   "name": "python",
   "nbconvert_exporter": "python",
   "pygments_lexer": "ipython3",
   "version": "3.7.9-final"
  },
  "orig_nbformat": 2,
  "kernelspec": {
   "name": "Python 3.7.9 64-bit ('deep-learning': conda)",
   "display_name": "Python 3.7.9 64-bit ('deep-learning': conda)",
   "metadata": {
    "interpreter": {
     "hash": "4fe2c7d8583915c62953c6af93dcc06775348c3b267ab901cb91daee53dc2af3"
    }
   }
  }
 },
 "nbformat": 4,
 "nbformat_minor": 2,
 "cells": [
  {
   "cell_type": "code",
   "execution_count": 1,
   "metadata": {},
   "outputs": [
    {
     "output_type": "stream",
     "name": "stdout",
     "text": [
      "env:  deep-learning\n",
      "Using TensorFlow backend.\n"
     ]
    }
   ],
   "source": [
    "import os, tensorflow, keras\n",
    "print('env: ', os.environ['CONDA_DEFAULT_ENV'])"
   ]
  }
 ]
}